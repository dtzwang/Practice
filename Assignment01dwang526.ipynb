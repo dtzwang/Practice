{
 "cells": [
  {
   "cell_type": "markdown",
   "metadata": {},
   "source": [
    "# Assignment 01 (100 points)\n",
    "### Learning Outcomes \n",
    "By completing this assignment, you will gain and demonstrate skills relating to\n",
    "- Working within the python and Jupyter notebook environment \n",
    "- Learning the basics of pandas’ dataframes \n",
    "- Extracting descriptive statistics from the data\n",
    "- Plot basic histograms and judge the shape of different distributions\n",
    "\n",
    "### Problem Description\n",
    "As a data scientist for a Hollywood investment company you have been charged with creating a summary of the last 250 movies so that your boss can have a deeper understanding of the movie industry. The dataset that you will be working with includes 8 different variables\n",
    "- North American box office revenue (boxoff)\n",
    "- Production cost of the movie (prodcost)\n",
    "- Income of the director (dirIncome)\n",
    "- Gender of the director (dirGender) \n",
    "- Year of release (year)\n",
    "- Month of release (month) \n",
    "- Movie genre (genre)\n",
    "- Number of theatres (numTheatres)\n",
    "\n",
    "DISCLAIMER: The data set is made up and different from last year!\n",
    "\n",
    "### General Instructions\n",
    "Unless otherwise stated,\n",
    "- You are encouraged _to use numpy, pandas, and matplotlib methods (e.g., mean, etc.).\n",
    "- Results in written answers should be rounded to 3 decimal places. \n",
    "- Before starting this assignment, it is important you go through the Installation and Assignment Instructions document.\n",
    "\n",
    "### Learning about pandas and data frames \n",
    "In this homework, you will be expected to attend the lab and also read through portions of the “Python for Data Analysis” textbook. Make sure that you familiarize yourself with Numpy (Chapter 4). Then work through the aforementioned sections in Chapters 5, 6, 8 and 9 to get the basic usage of data frames. This is a lot to read, and not everything is 100% important. Nonetheless, I encourage you to start working through the essentials. To help you not get lost, we will point you to the relevant book section for the various tasks. However, you may have to go back and read some basics if you realize that you are missing understanding on some foundational concept.  \n",
    "\n",
    "### Submit via OWL\n",
    "Please use this jupyter notbook to fill in the answers below. Before submitting, please make sure you clear the output prior to submission (Cell Menu -> All Outputs -> Clear ). Submit your notebook file under the file name YourUserID_Assign1.ipynb \n",
    "\n",
    "Make sure you attach the file to your assignment; DO NOT put the code inline in the textbox.\n",
    "Make sure that you develop your code with Python 3.7 as the interpreter. The TA will not endeavor to fix code that uses earlier versions of Python (e.g. 2.7). Make sure that your code includes all statements that it requires to work properly when calling Cell->Run All. \n",
    "\n",
    "### General Marking criteria: \n",
    "- Working code in Python 3.7 \n",
    "- Written answer in full English sentences, if required \n",
    "- For more complicated questions, show how you arrived at your answer\n",
    "- Informative variable names \n",
    "- For larger pieces of code, proper comments and explanations \n",
    "- All figures require axis labels + a caption "
   ]
  },
  {
   "cell_type": "markdown",
   "metadata": {},
   "source": [
    "## Task1: load the data into dataframe (? \\ 5 points)"
   ]
  },
  {
   "cell_type": "markdown",
   "metadata": {},
   "source": [
    "### Question1. import pandas as pd (pg.13) (? \\1 points)"
   ]
  },
  {
   "cell_type": "code",
   "execution_count": 1,
   "metadata": {},
   "outputs": [],
   "source": [
    " import pandas as pd"
   ]
  },
  {
   "cell_type": "markdown",
   "metadata": {},
   "source": [
    "### Question2. load the data file as a dataframe object (pg. 155 – 159) (? \\ 4 points)"
   ]
  },
  {
   "cell_type": "code",
   "execution_count": 3,
   "metadata": {},
   "outputs": [
    {
     "data": {
      "text/html": [
       "<div>\n",
       "<style scoped>\n",
       "    .dataframe tbody tr th:only-of-type {\n",
       "        vertical-align: middle;\n",
       "    }\n",
       "\n",
       "    .dataframe tbody tr th {\n",
       "        vertical-align: top;\n",
       "    }\n",
       "\n",
       "    .dataframe thead th {\n",
       "        text-align: right;\n",
       "    }\n",
       "</style>\n",
       "<table border=\"1\" class=\"dataframe\">\n",
       "  <thead>\n",
       "    <tr style=\"text-align: right;\">\n",
       "      <th></th>\n",
       "      <th>Unnamed: 0</th>\n",
       "      <th>boxoff</th>\n",
       "      <th>prodcost</th>\n",
       "      <th>dirIncome</th>\n",
       "      <th>dirGender</th>\n",
       "      <th>year</th>\n",
       "      <th>month</th>\n",
       "      <th>genre</th>\n",
       "      <th>numTheatres</th>\n",
       "    </tr>\n",
       "  </thead>\n",
       "  <tbody>\n",
       "    <tr>\n",
       "      <th>0</th>\n",
       "      <td>0</td>\n",
       "      <td>88.648583</td>\n",
       "      <td>44.742936</td>\n",
       "      <td>3.393535</td>\n",
       "      <td>male</td>\n",
       "      <td>2012</td>\n",
       "      <td>3</td>\n",
       "      <td>comedy</td>\n",
       "      <td>139.0</td>\n",
       "    </tr>\n",
       "    <tr>\n",
       "      <th>1</th>\n",
       "      <td>1</td>\n",
       "      <td>145.334924</td>\n",
       "      <td>38.835516</td>\n",
       "      <td>1.134711</td>\n",
       "      <td>female</td>\n",
       "      <td>2014</td>\n",
       "      <td>11</td>\n",
       "      <td>drama</td>\n",
       "      <td>213.0</td>\n",
       "    </tr>\n",
       "    <tr>\n",
       "      <th>2</th>\n",
       "      <td>2</td>\n",
       "      <td>238.265684</td>\n",
       "      <td>29.532283</td>\n",
       "      <td>2.418883</td>\n",
       "      <td>male</td>\n",
       "      <td>2015</td>\n",
       "      <td>6</td>\n",
       "      <td>other</td>\n",
       "      <td>100.0</td>\n",
       "    </tr>\n",
       "    <tr>\n",
       "      <th>3</th>\n",
       "      <td>3</td>\n",
       "      <td>212.714742</td>\n",
       "      <td>157.111899</td>\n",
       "      <td>2.034115</td>\n",
       "      <td>male</td>\n",
       "      <td>2014</td>\n",
       "      <td>10</td>\n",
       "      <td>adventure</td>\n",
       "      <td>436.0</td>\n",
       "    </tr>\n",
       "    <tr>\n",
       "      <th>4</th>\n",
       "      <td>4</td>\n",
       "      <td>120.175461</td>\n",
       "      <td>30.547155</td>\n",
       "      <td>0.963219</td>\n",
       "      <td>female</td>\n",
       "      <td>2012</td>\n",
       "      <td>1</td>\n",
       "      <td>comedy</td>\n",
       "      <td>115.0</td>\n",
       "    </tr>\n",
       "    <tr>\n",
       "      <th>...</th>\n",
       "      <td>...</td>\n",
       "      <td>...</td>\n",
       "      <td>...</td>\n",
       "      <td>...</td>\n",
       "      <td>...</td>\n",
       "      <td>...</td>\n",
       "      <td>...</td>\n",
       "      <td>...</td>\n",
       "      <td>...</td>\n",
       "    </tr>\n",
       "    <tr>\n",
       "      <th>245</th>\n",
       "      <td>245</td>\n",
       "      <td>187.231562</td>\n",
       "      <td>72.743712</td>\n",
       "      <td>3.105438</td>\n",
       "      <td>male</td>\n",
       "      <td>2012</td>\n",
       "      <td>12</td>\n",
       "      <td>adventure</td>\n",
       "      <td>366.0</td>\n",
       "    </tr>\n",
       "    <tr>\n",
       "      <th>246</th>\n",
       "      <td>246</td>\n",
       "      <td>215.713195</td>\n",
       "      <td>136.851707</td>\n",
       "      <td>1.917771</td>\n",
       "      <td>male</td>\n",
       "      <td>2013</td>\n",
       "      <td>7</td>\n",
       "      <td>adventure</td>\n",
       "      <td>285.0</td>\n",
       "    </tr>\n",
       "    <tr>\n",
       "      <th>247</th>\n",
       "      <td>247</td>\n",
       "      <td>166.827002</td>\n",
       "      <td>50.684470</td>\n",
       "      <td>2.414571</td>\n",
       "      <td>male</td>\n",
       "      <td>2014</td>\n",
       "      <td>1</td>\n",
       "      <td>other</td>\n",
       "      <td>233.0</td>\n",
       "    </tr>\n",
       "    <tr>\n",
       "      <th>248</th>\n",
       "      <td>248</td>\n",
       "      <td>223.226997</td>\n",
       "      <td>40.103513</td>\n",
       "      <td>2.176928</td>\n",
       "      <td>male</td>\n",
       "      <td>2015</td>\n",
       "      <td>2</td>\n",
       "      <td>drama</td>\n",
       "      <td>489.0</td>\n",
       "    </tr>\n",
       "    <tr>\n",
       "      <th>249</th>\n",
       "      <td>249</td>\n",
       "      <td>123.511036</td>\n",
       "      <td>48.287595</td>\n",
       "      <td>2.315791</td>\n",
       "      <td>male</td>\n",
       "      <td>2012</td>\n",
       "      <td>7</td>\n",
       "      <td>comedy</td>\n",
       "      <td>251.0</td>\n",
       "    </tr>\n",
       "  </tbody>\n",
       "</table>\n",
       "<p>250 rows × 9 columns</p>\n",
       "</div>"
      ],
      "text/plain": [
       "     Unnamed: 0      boxoff    prodcost  dirIncome dirGender  year  month  \\\n",
       "0             0   88.648583   44.742936   3.393535      male  2012      3   \n",
       "1             1  145.334924   38.835516   1.134711    female  2014     11   \n",
       "2             2  238.265684   29.532283   2.418883      male  2015      6   \n",
       "3             3  212.714742  157.111899   2.034115      male  2014     10   \n",
       "4             4  120.175461   30.547155   0.963219    female  2012      1   \n",
       "..          ...         ...         ...        ...       ...   ...    ...   \n",
       "245         245  187.231562   72.743712   3.105438      male  2012     12   \n",
       "246         246  215.713195  136.851707   1.917771      male  2013      7   \n",
       "247         247  166.827002   50.684470   2.414571      male  2014      1   \n",
       "248         248  223.226997   40.103513   2.176928      male  2015      2   \n",
       "249         249  123.511036   48.287595   2.315791      male  2012      7   \n",
       "\n",
       "         genre  numTheatres  \n",
       "0       comedy        139.0  \n",
       "1        drama        213.0  \n",
       "2        other        100.0  \n",
       "3    adventure        436.0  \n",
       "4       comedy        115.0  \n",
       "..         ...          ...  \n",
       "245  adventure        366.0  \n",
       "246  adventure        285.0  \n",
       "247      other        233.0  \n",
       "248      drama        489.0  \n",
       "249     comedy        251.0  \n",
       "\n",
       "[250 rows x 9 columns]"
      ]
     },
     "execution_count": 3,
     "metadata": {},
     "output_type": "execute_result"
    }
   ],
   "source": [
    "df = pd.read_csv(\"movieDataset.csv\")\n",
    "df"
   ]
  },
  {
   "cell_type": "markdown",
   "metadata": {},
   "source": [
    "## Task2: Understanding Pandas dataframe structure (? \\ 25 points)"
   ]
  },
  {
   "cell_type": "markdown",
   "metadata": {},
   "source": [
    "### Question1. learning how to access column names (pg. 116) (? \\ 2 points)\n",
    "Print the names of the columns in the data frame you loaded"
   ]
  },
  {
   "cell_type": "code",
   "execution_count": 4,
   "metadata": {},
   "outputs": [
    {
     "data": {
      "text/plain": [
       "['Unnamed: 0',\n",
       " 'boxoff',\n",
       " 'prodcost',\n",
       " 'dirIncome',\n",
       " 'dirGender',\n",
       " 'year',\n",
       " 'month',\n",
       " 'genre',\n",
       " 'numTheatres']"
      ]
     },
     "execution_count": 4,
     "metadata": {},
     "output_type": "execute_result"
    }
   ],
   "source": [
    "list(df.columns)"
   ]
  },
  {
   "cell_type": "markdown",
   "metadata": {},
   "source": [
    "### Question2. Retrieving a column (pg. 116) (? \\ 3 points)\n",
    "Print the data in the directorIncome column to the screen "
   ]
  },
  {
   "cell_type": "code",
   "execution_count": 6,
   "metadata": {},
   "outputs": [
    {
     "name": "stdout",
     "output_type": "stream",
     "text": [
      "0      3.393535\n",
      "1      1.134711\n",
      "2      2.418883\n",
      "3      2.034115\n",
      "4      0.963219\n",
      "         ...   \n",
      "245    3.105438\n",
      "246    1.917771\n",
      "247    2.414571\n",
      "248    2.176928\n",
      "249    2.315791\n",
      "Name: dirIncome, Length: 250, dtype: float64\n"
     ]
    }
   ],
   "source": [
    "print(df['dirIncome'])"
   ]
  },
  {
   "cell_type": "markdown",
   "metadata": {},
   "source": [
    "### Question3. Retrieving a data entry (i.e. a row) (pg. 117) (? \\ 5 points)\n",
    "Print the data in the 15 row "
   ]
  },
  {
   "cell_type": "code",
   "execution_count": 14,
   "metadata": {},
   "outputs": [
    {
     "name": "stdout",
     "output_type": "stream",
     "text": [
      "Unnamed: 0             14\n",
      "boxoff         316.306723\n",
      "prodcost          66.0135\n",
      "dirIncome         1.99689\n",
      "dirGender            male\n",
      "year                 2015\n",
      "month                  12\n",
      "genre              action\n",
      "numTheatres         593.0\n",
      "Name: 14, dtype: object\n"
     ]
    }
   ],
   "source": [
    "print(df.loc[14,])"
   ]
  },
  {
   "cell_type": "markdown",
   "metadata": {},
   "source": [
    "### Question4. Retrieving multiple rows (pg. 125 – 128) (? \\ 4 points )\n",
    "Print the data in rows 99 to 104"
   ]
  },
  {
   "cell_type": "code",
   "execution_count": 13,
   "metadata": {},
   "outputs": [
    {
     "name": "stdout",
     "output_type": "stream",
     "text": [
      "     Unnamed: 0      boxoff    prodcost  dirIncome dirGender  year  month  \\\n",
      "99           99  212.019583   39.953228   0.228733      male  2015      7   \n",
      "100         100  102.464505   22.785555   3.365736      male  2014      8   \n",
      "101         101  191.060229   50.967975   4.204352      male  2015      1   \n",
      "102         102  263.188313   83.574050   4.780653      male  2012      8   \n",
      "103         103  115.448968   78.839090   3.579342      male  2014      8   \n",
      "104         104  118.622763  140.163830   5.745664      male  2015     12   \n",
      "\n",
      "         genre  numTheatres  \n",
      "99   adventure        304.0  \n",
      "100     comedy        195.0  \n",
      "101     action        354.0  \n",
      "102     action        538.0  \n",
      "103     action        310.0  \n",
      "104  adventure        210.0  \n"
     ]
    }
   ],
   "source": [
    "print(df.loc[99:104,])"
   ]
  },
  {
   "cell_type": "markdown",
   "metadata": {},
   "source": [
    "### Question5. Retrieve the rows that meet a specific condition (pg. 126 – 127) (? \\ 7 points)\n",
    "Print the data entries where the director’s income is greater than or equal to 5 million dollars"
   ]
  },
  {
   "cell_type": "code",
   "execution_count": 16,
   "metadata": {},
   "outputs": [
    {
     "name": "stdout",
     "output_type": "stream",
     "text": [
      "     Unnamed: 0      boxoff    prodcost  dirIncome dirGender  year  month  \\\n",
      "104         104  118.622763  140.163830   5.745664      male  2015     12   \n",
      "110         110  160.135229   94.474355   5.219081      male  2015      4   \n",
      "117         117  204.895531  147.786519   5.029115      male  2012     12   \n",
      "153         153  113.908214   14.661172   5.058337      male  2015     10   \n",
      "159         159  142.697967  126.748095   5.499477      male  2012     11   \n",
      "189         189  211.971373   96.262110   5.277638      male  2015     12   \n",
      "227         227  244.326897   52.699310   5.804698      male  2013     12   \n",
      "239         239  391.434752   75.710045   5.875102      male  2015      8   \n",
      "\n",
      "         genre  numTheatres  \n",
      "104  adventure        210.0  \n",
      "110  adventure        168.0  \n",
      "117     action        262.0  \n",
      "153      other        212.0  \n",
      "159     action        383.0  \n",
      "189  adventure        568.0  \n",
      "227     comedy        610.0  \n",
      "239     action        802.0  \n"
     ]
    }
   ],
   "source": [
    "print(df.loc[df['dirIncome']>= 5])"
   ]
  },
  {
   "cell_type": "markdown",
   "metadata": {},
   "source": [
    "### Question6. creating a new column (pg. 128 – 129 and pg. 261) (? \\ 4 points)\n",
    "Add a new column to the dataframe (profit). This column should be the total box office income minus the production cost."
   ]
  },
  {
   "cell_type": "code",
   "execution_count": 19,
   "metadata": {},
   "outputs": [
    {
     "data": {
      "text/plain": [
       "0       43.905646\n",
       "1      106.499408\n",
       "2      208.733401\n",
       "3       55.602844\n",
       "4       89.628307\n",
       "          ...    \n",
       "245    114.487850\n",
       "246     78.861488\n",
       "247    116.142533\n",
       "248    183.123485\n",
       "249     75.223441\n",
       "Name: profit, Length: 250, dtype: float64"
      ]
     },
     "execution_count": 19,
     "metadata": {},
     "output_type": "execute_result"
    }
   ],
   "source": [
    "df['profit'] = df['boxoff'] - df['prodcost']\n",
    "df['profit']"
   ]
  },
  {
   "cell_type": "markdown",
   "metadata": {},
   "source": [
    "## Task3: Descriptive statistics (? \\ 40 points)"
   ]
  },
  {
   "cell_type": "markdown",
   "metadata": {},
   "source": [
    "### Question1. For the director Income column, print the median, mean, minimal value and maximal value (? \\ 16 points)"
   ]
  },
  {
   "cell_type": "markdown",
   "metadata": {},
   "source": [
    "#### median for directorIncome column (? \\ 4 points)"
   ]
  },
  {
   "cell_type": "code",
   "execution_count": 21,
   "metadata": {},
   "outputs": [
    {
     "name": "stdout",
     "output_type": "stream",
     "text": [
      "1.950844833985145\n"
     ]
    }
   ],
   "source": [
    "print(df['dirIncome'].median())"
   ]
  },
  {
   "cell_type": "markdown",
   "metadata": {},
   "source": [
    "#### mean for directorIncome column (? \\ 4 points)"
   ]
  },
  {
   "cell_type": "code",
   "execution_count": 22,
   "metadata": {},
   "outputs": [
    {
     "name": "stdout",
     "output_type": "stream",
     "text": [
      "2.1282219455941407\n"
     ]
    }
   ],
   "source": [
    "print(df['dirIncome'].mean())"
   ]
  },
  {
   "cell_type": "markdown",
   "metadata": {},
   "source": [
    "#### minimum for directorIncome column (? \\ 4 points)"
   ]
  },
  {
   "cell_type": "code",
   "execution_count": 23,
   "metadata": {},
   "outputs": [
    {
     "name": "stdout",
     "output_type": "stream",
     "text": [
      "0.2287332260825104\n"
     ]
    }
   ],
   "source": [
    "print(df['dirIncome'].min())"
   ]
  },
  {
   "cell_type": "markdown",
   "metadata": {},
   "source": [
    "#### maximum dor directorIncome column (? \\ 4 points)"
   ]
  },
  {
   "cell_type": "code",
   "execution_count": 24,
   "metadata": {},
   "outputs": [
    {
     "name": "stdout",
     "output_type": "stream",
     "text": [
      "5.875101572481936\n"
     ]
    }
   ],
   "source": [
    "print(df['dirIncome'].max())"
   ]
  },
  {
   "cell_type": "markdown",
   "metadata": {},
   "source": [
    "### Question2. Written answer: From these values, what can you guess about the Skewness of the distribution? Justify your answer (? \\ 8 points)"
   ]
  },
  {
   "cell_type": "code",
   "execution_count": 25,
   "metadata": {},
   "outputs": [],
   "source": [
    "#I can guess that the data is right-skewed as the mean is larger than the median value.\n",
    "#I assume this to be because many directors will earn less than the mean which is brought up by several outliers of directors who have earned lots of money."
   ]
  },
  {
   "cell_type": "markdown",
   "metadata": {},
   "source": [
    "### Question3. Print out the data for the movie that has the highest box-office income (? \\ 16 points)\n",
    "(Hint: you may first have to determine the maximum value in the box-office column and then use retrieval strategies to print out all the data)"
   ]
  },
  {
   "cell_type": "code",
   "execution_count": 30,
   "metadata": {},
   "outputs": [
    {
     "name": "stdout",
     "output_type": "stream",
     "text": [
      "     Unnamed: 0      boxoff    prodcost  dirIncome dirGender  year  month  \\\n",
      "172         172  465.247739  109.604718   2.303829      male  2014     12   \n",
      "\n",
      "      genre  numTheatres      profit  \n",
      "172  action        523.0  355.643022  \n"
     ]
    }
   ],
   "source": [
    "max_box_office = df['boxoff'].max()\n",
    "print(df.loc[df['boxoff']==max_box_office])"
   ]
  },
  {
   "cell_type": "markdown",
   "metadata": {},
   "source": [
    "## Task 4: plotting histograms and boxplots (? \\ 30 points)\n",
    "### Preliminaries\n",
    "In order to set up your notebook environment so it includes figures inline write the following code:"
   ]
  },
  {
   "cell_type": "code",
   "execution_count": 31,
   "metadata": {},
   "outputs": [],
   "source": [
    "import matplotlib\n",
    "matplotlib.use('TkAgg')\n",
    "import matplotlib.pyplot as plt\n",
    "%matplotlib inline\n"
   ]
  },
  {
   "cell_type": "markdown",
   "metadata": {},
   "source": [
    "### Question1. Create a histogram of director Income (pgs. 238 – 239). Choose the number of bins so that the plot is informative. (? / 10 points)\n",
    "\n",
    "Written response: Justify why you chose this number."
   ]
  },
  {
   "cell_type": "code",
   "execution_count": 42,
   "metadata": {},
   "outputs": [
    {
     "data": {
      "image/png": "[encoded data removed]",
      "text/plain": [
       "<Figure size 432x288 with 1 Axes>"
      ]
     },
     "metadata": {
      "needs_background": "light"
     },
     "output_type": "display_data"
    }
   ],
   "source": [
    "plt.hist(df['dirIncome'], bins = 15)\n",
    "plt.xlabel(\"Director Income in Millions\")\n",
    "plt.ylabel(\"Count\")\n",
    "plt.show()\n",
    "\n",
    "#I chose to show 15 bins as I felt that it was the balance between a readable graph and one that displayed enough\n",
    "#important information. With 15 bins, you can see distinctly the bimodal distribution between the 1 and 2 million\n",
    "#range."
   ]
  },
  {
   "cell_type": "markdown",
   "metadata": {},
   "source": [
    "### Question2. Create a boxplot of director Income (plt.boxplot) (? \\ 6 points)"
   ]
  },
  {
   "cell_type": "code",
   "execution_count": 44,
   "metadata": {},
   "outputs": [
    {
     "data": {
      "image/png": "[encoded data removed]",
      "text/plain": [
       "<Figure size 432x288 with 1 Axes>"
      ]
     },
     "metadata": {
      "needs_background": "light"
     },
     "output_type": "display_data"
    }
   ],
   "source": [
    "plt.boxplot(df['dirIncome'])\n",
    "plt.ylabel(\"Director Income in Millions\")\n",
    "plt.show()"
   ]
  },
  {
   "cell_type": "markdown",
   "metadata": {},
   "source": [
    "### Question3. Create a violinplot of director income (plt.violinplot) (? \\ 6 points )"
   ]
  },
  {
   "cell_type": "code",
   "execution_count": 45,
   "metadata": {},
   "outputs": [
    {
     "data": {
      "image/png": "[encoded data removed]",
      "text/plain": [
       "<Figure size 432x288 with 1 Axes>"
      ]
     },
     "metadata": {
      "needs_background": "light"
     },
     "output_type": "display_data"
    }
   ],
   "source": [
    "plt.violinplot(df['dirIncome'])\n",
    "plt.ylabel(\"Director Income in Millions\")\n",
    "plt.show()"
   ]
  },
  {
   "cell_type": "markdown",
   "metadata": {},
   "source": [
    "### Question4. written response: From the three graphs, describe the distribution of director income in terms of range, skewness, and outliers. Which visualization shows which aspects best? (? \\ 8 points)"
   ]
  },
  {
   "cell_type": "code",
   "execution_count": null,
   "metadata": {},
   "outputs": [],
   "source": [
    "#Director income ranges from 0 to 6 million dollars across the dataset. It is shown to be right-skewed, with more\n",
    "#values at the lower end than the higher end, and with a greater mean than median. The data is seen to be either\n",
    "#unimodal or bimodal as seen in the histogram. There are several outliers that exist at the high end of the range,\n",
    "#near the 6m value. I believe that the histogram shows these aspects the best as one can clearly see the range, skewness\n",
    "#and outliers, and can even tell apart the bimodal peaks from the 1m to 2m range."
   ]
  }
 ],
 "metadata": {
  "kernelspec": {
   "display_name": "Python 3 (ipykernel)",
   "language": "python",
   "name": "python3"
  },
  "language_info": {
   "codemirror_mode": {
    "name": "ipython",
    "version": 3
   },
   "file_extension": ".py",
   "mimetype": "text/x-python",
   "name": "python",
   "nbconvert_exporter": "python",
   "pygments_lexer": "ipython3",
   "version": "3.9.7"
  }
 },
 "nbformat": 4,
 "nbformat_minor": 2
}
