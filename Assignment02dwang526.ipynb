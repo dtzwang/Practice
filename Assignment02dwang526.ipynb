{
 "cells": [
  {
   "cell_type": "markdown",
   "metadata": {},
   "source": [
    "# Assignment 2\n",
    "### Learning Outcomes \n",
    "By completing this assignment, you will gain and demonstrate skills relating to \n",
    "- working within the python environment  \n",
    "- visualizing of numerical data continued \n",
    "- tabulation and plotting of discrete data \n",
    "- Calculating joint, marginal, and conditional probabilities  \n",
    "- Summarizing and plotting numerical data by group \n",
    "\n",
    "### Problem Description\n",
    "As a data scientist for a Hollywood investment company you have been charged with creating a summary of the last 250 movies so that your boss can have a deeper understanding of the movie industry. The dataset that you will be working with includes 8 different variables: \n",
    "- North American box office revenue  \n",
    "- Cost to produce the movie \n",
    "- Income of the director \n",
    "- Gender of the director \n",
    "- Year of release \n",
    "- Month of release \n",
    "- Movie genre \n",
    "- Number of theaters at release \n",
    "\n",
    "Unless otherwise stated, you are encouraged to use numpy, pandas, and matplotlib methods (e.g., mean, etc.). \n",
    "\n",
    "In this homework, you are expected to read portions of the Python for Data Analysis textbook. To help you not get lost, we will point you to the relevant book section for the various tasks. However, you may have to go back and read some basics if you realize that you are missing understanding on some foundational concept. \n",
    "\n",
    "### Overview of plotting (pg. 219-240)\n",
    "Read pages 219 to 231 in the Python for Data Analysis book. While we do not assign a specific task, the knowledge gained here will help in completing the tasks in the rest of this homework. In addition, step through this https://nbviewer.jupyter.org/github/jrjohansson/scientific-python-lectures/blob/master/Lecture-4-Matplotlib.ipynb. It is suggested that you download the notebook and run it locally to fully benefit from the tutorial.  \n",
    "\n",
    "### Submit via OWL\n",
    "Use the jupyter notebook provided and fill in your answer in the code cells. Before submitting, please make sure you clear the output prior to submission (Cell Menu -> All Outputs -> Clear ). Submit your notebook file under the file name YourUserID_Assign1.ipynb \n",
    "\n",
    "Make sure that you develop your code with Python 3.7 as the interpreter. The TA will not endeavor to fix code that uses earlier versions of Python (e.g. 2.7). Make sure that your code includes all statements that it requires to work properly when calling Cell->Run All. \n",
    "\n",
    "### General Marking criteria: \n",
    "- Does the program behave according to specifications?\n",
    "- Are you using appropriate data structures?\n",
    "- Is the output according to specifications?\n",
    "- Are all questions answered fully? Written responses must be answered in full English sentences.\n",
    "- Comments for pieces of code that are longer than few line \n",
    "- All figures require axis labels + a caption\n",
    "- Use Python coding conventions and good programming techniques, for example:\n",
    "    * meaningful variable names\n",
    "    * conventions for naming variables and constants\n",
    "    * Use of constants where appropriate\n",
    "    * Readability: indention, white space, consistency."
   ]
  },
  {
   "cell_type": "markdown",
   "metadata": {},
   "source": [
    "## Task 1: Plotting histograms II (Subplots) (? / 15 points)\n",
    "In order to set up your notebook environment so it includes figures inline write the following code <br>\n",
    "\n",
    "import matplotlib <br>\n",
    "matplotlib.use('TkAgg') <br>\n",
    "import matplotlib.pyplot as plt <br> \n",
    "%matplotlib inline <br>"
   ]
  },
  {
   "cell_type": "code",
   "execution_count": 103,
   "metadata": {},
   "outputs": [],
   "source": [
    "import matplotlib\n",
    "matplotlib.use('TkAgg')\n",
    "import matplotlib.pyplot as plt\n",
    "%matplotlib inline \n",
    "import pandas as pd\n",
    "import seaborn as sns"
   ]
  },
  {
   "cell_type": "markdown",
   "metadata": {},
   "source": [
    "### Question1. Load the movieDataset and calculate the new column \"profit\" as in the previous assignment (? / 2 points)"
   ]
  },
  {
   "cell_type": "code",
   "execution_count": 3,
   "metadata": {},
   "outputs": [
    {
     "data": {
      "text/html": [
       "<div>\n",
       "<style scoped>\n",
       "    .dataframe tbody tr th:only-of-type {\n",
       "        vertical-align: middle;\n",
       "    }\n",
       "\n",
       "    .dataframe tbody tr th {\n",
       "        vertical-align: top;\n",
       "    }\n",
       "\n",
       "    .dataframe thead th {\n",
       "        text-align: right;\n",
       "    }\n",
       "</style>\n",
       "<table border=\"1\" class=\"dataframe\">\n",
       "  <thead>\n",
       "    <tr style=\"text-align: right;\">\n",
       "      <th></th>\n",
       "      <th>Unnamed: 0</th>\n",
       "      <th>boxoff</th>\n",
       "      <th>prodcost</th>\n",
       "      <th>dirIncome</th>\n",
       "      <th>dirGender</th>\n",
       "      <th>year</th>\n",
       "      <th>month</th>\n",
       "      <th>genre</th>\n",
       "      <th>numTheatres</th>\n",
       "      <th>profit</th>\n",
       "    </tr>\n",
       "  </thead>\n",
       "  <tbody>\n",
       "    <tr>\n",
       "      <th>0</th>\n",
       "      <td>0</td>\n",
       "      <td>88.648583</td>\n",
       "      <td>44.742936</td>\n",
       "      <td>3.393535</td>\n",
       "      <td>male</td>\n",
       "      <td>2012</td>\n",
       "      <td>3</td>\n",
       "      <td>comedy</td>\n",
       "      <td>139.0</td>\n",
       "      <td>43.905646</td>\n",
       "    </tr>\n",
       "    <tr>\n",
       "      <th>1</th>\n",
       "      <td>1</td>\n",
       "      <td>145.334924</td>\n",
       "      <td>38.835516</td>\n",
       "      <td>1.134711</td>\n",
       "      <td>female</td>\n",
       "      <td>2014</td>\n",
       "      <td>11</td>\n",
       "      <td>drama</td>\n",
       "      <td>213.0</td>\n",
       "      <td>106.499408</td>\n",
       "    </tr>\n",
       "    <tr>\n",
       "      <th>2</th>\n",
       "      <td>2</td>\n",
       "      <td>238.265684</td>\n",
       "      <td>29.532283</td>\n",
       "      <td>2.418883</td>\n",
       "      <td>male</td>\n",
       "      <td>2015</td>\n",
       "      <td>6</td>\n",
       "      <td>other</td>\n",
       "      <td>100.0</td>\n",
       "      <td>208.733401</td>\n",
       "    </tr>\n",
       "    <tr>\n",
       "      <th>3</th>\n",
       "      <td>3</td>\n",
       "      <td>212.714742</td>\n",
       "      <td>157.111899</td>\n",
       "      <td>2.034115</td>\n",
       "      <td>male</td>\n",
       "      <td>2014</td>\n",
       "      <td>10</td>\n",
       "      <td>adventure</td>\n",
       "      <td>436.0</td>\n",
       "      <td>55.602844</td>\n",
       "    </tr>\n",
       "    <tr>\n",
       "      <th>4</th>\n",
       "      <td>4</td>\n",
       "      <td>120.175461</td>\n",
       "      <td>30.547155</td>\n",
       "      <td>0.963219</td>\n",
       "      <td>female</td>\n",
       "      <td>2012</td>\n",
       "      <td>1</td>\n",
       "      <td>comedy</td>\n",
       "      <td>115.0</td>\n",
       "      <td>89.628307</td>\n",
       "    </tr>\n",
       "    <tr>\n",
       "      <th>...</th>\n",
       "      <td>...</td>\n",
       "      <td>...</td>\n",
       "      <td>...</td>\n",
       "      <td>...</td>\n",
       "      <td>...</td>\n",
       "      <td>...</td>\n",
       "      <td>...</td>\n",
       "      <td>...</td>\n",
       "      <td>...</td>\n",
       "      <td>...</td>\n",
       "    </tr>\n",
       "    <tr>\n",
       "      <th>245</th>\n",
       "      <td>245</td>\n",
       "      <td>187.231562</td>\n",
       "      <td>72.743712</td>\n",
       "      <td>3.105438</td>\n",
       "      <td>male</td>\n",
       "      <td>2012</td>\n",
       "      <td>12</td>\n",
       "      <td>adventure</td>\n",
       "      <td>366.0</td>\n",
       "      <td>114.487850</td>\n",
       "    </tr>\n",
       "    <tr>\n",
       "      <th>246</th>\n",
       "      <td>246</td>\n",
       "      <td>215.713195</td>\n",
       "      <td>136.851707</td>\n",
       "      <td>1.917771</td>\n",
       "      <td>male</td>\n",
       "      <td>2013</td>\n",
       "      <td>7</td>\n",
       "      <td>adventure</td>\n",
       "      <td>285.0</td>\n",
       "      <td>78.861488</td>\n",
       "    </tr>\n",
       "    <tr>\n",
       "      <th>247</th>\n",
       "      <td>247</td>\n",
       "      <td>166.827002</td>\n",
       "      <td>50.684470</td>\n",
       "      <td>2.414571</td>\n",
       "      <td>male</td>\n",
       "      <td>2014</td>\n",
       "      <td>1</td>\n",
       "      <td>other</td>\n",
       "      <td>233.0</td>\n",
       "      <td>116.142533</td>\n",
       "    </tr>\n",
       "    <tr>\n",
       "      <th>248</th>\n",
       "      <td>248</td>\n",
       "      <td>223.226997</td>\n",
       "      <td>40.103513</td>\n",
       "      <td>2.176928</td>\n",
       "      <td>male</td>\n",
       "      <td>2015</td>\n",
       "      <td>2</td>\n",
       "      <td>drama</td>\n",
       "      <td>489.0</td>\n",
       "      <td>183.123485</td>\n",
       "    </tr>\n",
       "    <tr>\n",
       "      <th>249</th>\n",
       "      <td>249</td>\n",
       "      <td>123.511036</td>\n",
       "      <td>48.287595</td>\n",
       "      <td>2.315791</td>\n",
       "      <td>male</td>\n",
       "      <td>2012</td>\n",
       "      <td>7</td>\n",
       "      <td>comedy</td>\n",
       "      <td>251.0</td>\n",
       "      <td>75.223441</td>\n",
       "    </tr>\n",
       "  </tbody>\n",
       "</table>\n",
       "<p>250 rows × 10 columns</p>\n",
       "</div>"
      ],
      "text/plain": [
       "     Unnamed: 0      boxoff    prodcost  dirIncome dirGender  year  month  \\\n",
       "0             0   88.648583   44.742936   3.393535      male  2012      3   \n",
       "1             1  145.334924   38.835516   1.134711    female  2014     11   \n",
       "2             2  238.265684   29.532283   2.418883      male  2015      6   \n",
       "3             3  212.714742  157.111899   2.034115      male  2014     10   \n",
       "4             4  120.175461   30.547155   0.963219    female  2012      1   \n",
       "..          ...         ...         ...        ...       ...   ...    ...   \n",
       "245         245  187.231562   72.743712   3.105438      male  2012     12   \n",
       "246         246  215.713195  136.851707   1.917771      male  2013      7   \n",
       "247         247  166.827002   50.684470   2.414571      male  2014      1   \n",
       "248         248  223.226997   40.103513   2.176928      male  2015      2   \n",
       "249         249  123.511036   48.287595   2.315791      male  2012      7   \n",
       "\n",
       "         genre  numTheatres      profit  \n",
       "0       comedy        139.0   43.905646  \n",
       "1        drama        213.0  106.499408  \n",
       "2        other        100.0  208.733401  \n",
       "3    adventure        436.0   55.602844  \n",
       "4       comedy        115.0   89.628307  \n",
       "..         ...          ...         ...  \n",
       "245  adventure        366.0  114.487850  \n",
       "246  adventure        285.0   78.861488  \n",
       "247      other        233.0  116.142533  \n",
       "248      drama        489.0  183.123485  \n",
       "249     comedy        251.0   75.223441  \n",
       "\n",
       "[250 rows x 10 columns]"
      ]
     },
     "execution_count": 3,
     "metadata": {},
     "output_type": "execute_result"
    }
   ],
   "source": [
    "df = pd.read_csv(\"movieDataset.csv\")\n",
    "df['profit'] = df['boxoff'] - df['prodcost']\n",
    "df"
   ]
  },
  {
   "cell_type": "markdown",
   "metadata": {},
   "source": [
    "### Question2. Generate a new figure with an array of 6 subplots (2 rows and 3 columns recommended, see pages 220-223). In the subplots, provide a histogram for the variables boxoff, prodcost,  dirIncome, release month, year released, profit. For each variable, choose an appropriate number of bins (? / 4 points)"
   ]
  },
  {
   "cell_type": "code",
   "execution_count": 12,
   "metadata": {},
   "outputs": [
    {
     "data": {
      "text/plain": [
       "Text(0.5, 1.0, 'Profit')"
      ]
     },
     "execution_count": 12,
     "metadata": {},
     "output_type": "execute_result"
    },
    {
     "data": {
      "image/png": "[encoded data removed]",
      "text/plain": [
       "<Figure size 432x288 with 6 Axes>"
      ]
     },
     "metadata": {
      "needs_background": "light"
     },
     "output_type": "display_data"
    }
   ],
   "source": [
    "fig, axs = plt.subplots(2,3)\n",
    "axs[0,0].hist(df['boxoff'])\n",
    "axs[0,0].set_title('Box Office')\n",
    "axs[0,1].hist(df['prodcost'])\n",
    "axs[0,1].set_title('Production Cost')\n",
    "axs[0,2].hist(df['dirIncome'])\n",
    "axs[0,2].set_title('Director Income')\n",
    "axs[1,0].hist(df['month'], bins = 12)\n",
    "axs[1,0].set_title('Month Released')\n",
    "axs[1,1].hist(df['year'], bins = 4)\n",
    "axs[1,1].set_title('Year Released')\n",
    "axs[1,2].hist(df['profit'])\n",
    "axs[1,2].set_title('Profit')"
   ]
  },
  {
   "cell_type": "markdown",
   "metadata": {},
   "source": [
    "Array of Histograms showing Box Office, Production Cost, Director Income, Month Released, Year Released and Profit distribution in the movies dataset."
   ]
  },
  {
   "cell_type": "markdown",
   "metadata": {},
   "source": [
    "### Question 3. Written response: Justify the number of bins chosen for each variable. ( ? / 3 points)"
   ]
  },
  {
   "cell_type": "markdown",
   "metadata": {},
   "source": [
    "For most variables, I did not modify the number of bins as the default setting conveyed enough information without losing much. However, for month and year released, I modified the bins in order to limit it to the 12 months and the 4 years across the dataset."
   ]
  },
  {
   "cell_type": "markdown",
   "metadata": {},
   "source": [
    "### Question 4: Describe the shape of the distribution for each variable, including the number of modes and the shape (symmetric, skew, uniform?).  (? / 6 points)"
   ]
  },
  {
   "cell_type": "markdown",
   "metadata": {},
   "source": [
    "- Box office: unimodal, right-skewed\n",
    "- Production cost: unimodeal, right-skewed\n",
    "- Director income: bimodal, right-skewed\n",
    "- Month released: multimodal, right-skewed (although, since a year is repeated, if it were possible to describe how movies tend to release during winter would be a more accurate description)\n",
    "- Year released: bimodal, uniform\n",
    "- Profit: unimodal, symmetric"
   ]
  },
  {
   "cell_type": "markdown",
   "metadata": {},
   "source": [
    "## Task 2: Tabulating and visualizing categorical data (pg. 24-30 and pg 250-256) (? / 20 points)"
   ]
  },
  {
   "cell_type": "markdown",
   "metadata": {},
   "source": [
    "### Question1. Create a contingency table of director gender (rows) by genre (columns) without the marginal sums. You may normalize the table by rows or columns. Print to the screen. (? / 4 points)"
   ]
  },
  {
   "cell_type": "code",
   "execution_count": 13,
   "metadata": {},
   "outputs": [
    {
     "data": {
      "text/html": [
       "<div>\n",
       "<style scoped>\n",
       "    .dataframe tbody tr th:only-of-type {\n",
       "        vertical-align: middle;\n",
       "    }\n",
       "\n",
       "    .dataframe tbody tr th {\n",
       "        vertical-align: top;\n",
       "    }\n",
       "\n",
       "    .dataframe thead th {\n",
       "        text-align: right;\n",
       "    }\n",
       "</style>\n",
       "<table border=\"1\" class=\"dataframe\">\n",
       "  <thead>\n",
       "    <tr style=\"text-align: right;\">\n",
       "      <th>genre</th>\n",
       "      <th>action</th>\n",
       "      <th>adventure</th>\n",
       "      <th>comedy</th>\n",
       "      <th>drama</th>\n",
       "      <th>other</th>\n",
       "    </tr>\n",
       "    <tr>\n",
       "      <th>dirGender</th>\n",
       "      <th></th>\n",
       "      <th></th>\n",
       "      <th></th>\n",
       "      <th></th>\n",
       "      <th></th>\n",
       "    </tr>\n",
       "  </thead>\n",
       "  <tbody>\n",
       "    <tr>\n",
       "      <th>female</th>\n",
       "      <td>9</td>\n",
       "      <td>6</td>\n",
       "      <td>13</td>\n",
       "      <td>5</td>\n",
       "      <td>4</td>\n",
       "    </tr>\n",
       "    <tr>\n",
       "      <th>male</th>\n",
       "      <td>48</td>\n",
       "      <td>58</td>\n",
       "      <td>35</td>\n",
       "      <td>31</td>\n",
       "      <td>41</td>\n",
       "    </tr>\n",
       "  </tbody>\n",
       "</table>\n",
       "</div>"
      ],
      "text/plain": [
       "genre      action  adventure  comedy  drama  other\n",
       "dirGender                                         \n",
       "female          9          6      13      5      4\n",
       "male           48         58      35     31     41"
      ]
     },
     "execution_count": 13,
     "metadata": {},
     "output_type": "execute_result"
    }
   ],
   "source": [
    "contingency_table = pd.crosstab(df['dirGender'], df['genre'])\n",
    "contingency_table"
   ]
  },
  {
   "cell_type": "markdown",
   "metadata": {},
   "source": [
    "Contingency table showing the counts of director gender in various movie genres"
   ]
  },
  {
   "cell_type": "markdown",
   "metadata": {},
   "source": [
    "### Question2. Plot the genre counts by director gender as a grouped bar chart (? / 3 points)"
   ]
  },
  {
   "cell_type": "code",
   "execution_count": 16,
   "metadata": {},
   "outputs": [
    {
     "data": {
      "text/plain": [
       "<AxesSubplot:xlabel='dirGender'>"
      ]
     },
     "execution_count": 16,
     "metadata": {},
     "output_type": "execute_result"
    },
    {
     "data": {
      "image/png": "[encoded data removed]",
      "text/plain": [
       "<Figure size 432x288 with 1 Axes>"
      ]
     },
     "metadata": {
      "needs_background": "light"
     },
     "output_type": "display_data"
    }
   ],
   "source": [
    "contingency_table.plot.bar()"
   ]
  },
  {
   "cell_type": "markdown",
   "metadata": {},
   "source": [
    "Grouped bar chart of movie genres grouped by director gender"
   ]
  },
  {
   "cell_type": "markdown",
   "metadata": {},
   "source": [
    "### Question3. Make a Figure with 2 subplots. Plot the genre counts by director gender as a grouped barplot in one subplot, and as a stacked bar chart in the other subplot. (? / 3 points)"
   ]
  },
  {
   "cell_type": "code",
   "execution_count": 43,
   "metadata": {},
   "outputs": [
    {
     "data": {
      "text/plain": [
       "array([<AxesSubplot:xlabel='dirGender'>, <AxesSubplot:xlabel='dirGender'>],\n",
       "      dtype=object)"
      ]
     },
     "execution_count": 43,
     "metadata": {},
     "output_type": "execute_result"
    },
    {
     "data": {
      "image/png": "[encoded data removed]",
      "text/plain": [
       "<Figure size 432x288 with 1 Axes>"
      ]
     },
     "metadata": {
      "needs_background": "light"
     },
     "output_type": "display_data"
    },
    {
     "data": {
      "image/png": "[encoded data removed]",
      "text/plain": [
       "<Figure size 432x288 with 1 Axes>"
      ]
     },
     "metadata": {
      "needs_background": "light"
     },
     "output_type": "display_data"
    }
   ],
   "source": [
    "axs[0] = contingency_table.plot.bar()\n",
    "axs[1] = contingency_table.plot.bar(stacked=True)\n",
    "axs"
   ]
  },
  {
   "cell_type": "markdown",
   "metadata": {},
   "source": [
    "Grouped bar chart of movie genres grouped by director gender and stacked bar chart of movie genres grouped by director gender"
   ]
  },
  {
   "cell_type": "markdown",
   "metadata": {},
   "source": [
    "### Question4. Generate a table of director Gender (rows) and genre (columns), normalized by the row-marginal counts of male and female director, such that you have conditional probabilities of movie genre, given the gender of the director. Print the table and make a stacked barplot. (? / 3 points)"
   ]
  },
  {
   "cell_type": "code",
   "execution_count": 51,
   "metadata": {},
   "outputs": [
    {
     "data": {
      "text/plain": [
       "(genre        action  adventure    comedy     drama     other\n",
       " dirGender                                                   \n",
       " female     0.243243   0.162162  0.351351  0.135135  0.108108\n",
       " male       0.225352   0.272300  0.164319  0.145540  0.192488\n",
       " All        0.228000   0.256000  0.192000  0.144000  0.180000,\n",
       " <AxesSubplot:xlabel='dirGender'>)"
      ]
     },
     "execution_count": 51,
     "metadata": {},
     "output_type": "execute_result"
    },
    {
     "data": {
      "image/png": "[encoded data removed]",
      "text/plain": [
       "<Figure size 432x288 with 1 Axes>"
      ]
     },
     "metadata": {
      "needs_background": "light"
     },
     "output_type": "display_data"
    }
   ],
   "source": [
    "contingency_table1 = pd.crosstab(df['dirGender'], df['genre'], margins = True, normalize = 'index')\n",
    "contingency_table1, contingency_table1.plot.bar(stacked=True)"
   ]
  },
  {
   "cell_type": "markdown",
   "metadata": {},
   "source": [
    "Contingency table of director gender across movie genres with row-marginal counts of director gender, and a stacked barplot comparing genre distribution across male, female and all directors."
   ]
  },
  {
   "cell_type": "markdown",
   "metadata": {},
   "source": [
    "### Question5. Generate a table of movie genre (rows) and director gender (columns), normalized by the row-marginal counts for each genre, such that you have conditional probabilities of the director gender, given the movie genre.  Print the table and make a stacked barplot. (? / 3 points) (? / 3 points)"
   ]
  },
  {
   "cell_type": "code",
   "execution_count": 56,
   "metadata": {},
   "outputs": [
    {
     "data": {
      "text/plain": [
       "(dirGender    female      male\n",
       " genre                        \n",
       " action     0.157895  0.842105\n",
       " adventure  0.093750  0.906250\n",
       " comedy     0.270833  0.729167\n",
       " drama      0.138889  0.861111\n",
       " other      0.088889  0.911111\n",
       " All        0.148000  0.852000,\n",
       " <AxesSubplot:xlabel='genre'>)"
      ]
     },
     "execution_count": 56,
     "metadata": {},
     "output_type": "execute_result"
    },
    {
     "data": {
      "image/png": "[encoded data removed]",
      "text/plain": [
       "<Figure size 432x288 with 1 Axes>"
      ]
     },
     "metadata": {
      "needs_background": "light"
     },
     "output_type": "display_data"
    }
   ],
   "source": [
    "contingency_table2 = pd.crosstab(df['genre'], df['dirGender'], margins = True, normalize = 'index')\n",
    "contingency_table2, contingency_table2.plot.bar(stacked=True)"
   ]
  },
  {
   "cell_type": "markdown",
   "metadata": {},
   "source": [
    "Contingency table of director gender across movie genres with row-marginal counts of genre, and a stacked barplot comparing gender distribution across individual and all directors."
   ]
  },
  {
   "cell_type": "markdown",
   "metadata": {},
   "source": [
    "### Question6. Written response: Compare the 2 plots from questions 4 and 5. For each plot, describe which aspect of the data can be most readily seen (? / 4 points)"
   ]
  },
  {
   "cell_type": "markdown",
   "metadata": {},
   "source": [
    "Q4: The range of genres over between female, male and directors in general can be seen best.\n",
    "Q5: The distribution of director gender in each film genre can be seen best."
   ]
  },
  {
   "cell_type": "markdown",
   "metadata": {},
   "source": [
    "## Task 3: Probabilities (? / 20 points)"
   ]
  },
  {
   "cell_type": "markdown",
   "metadata": {},
   "source": [
    "For each of the questions in this task, you  should show the formula you used to compute the probability. <br>\n",
    "For each of the tasks in this section, print the answer in a full sentence. For instance, your output should not just be a value but instead: <br>\n",
    "__Probability of movie being sci-fi given that the gender of the director is male, is 0.602__ <br>\n",
    "Using the contingency tables, compute and print:"
   ]
  },
  {
   "cell_type": "markdown",
   "metadata": {},
   "source": [
    "### Question1. The marginal probability of a movie being an action movie (? / 2 points)"
   ]
  },
  {
   "cell_type": "code",
   "execution_count": 70,
   "metadata": {},
   "outputs": [
    {
     "name": "stdout",
     "output_type": "stream",
     "text": [
      "The marginal probability of a movie being an action movie is 0.228\n"
     ]
    }
   ],
   "source": [
    "print(\"The marginal probability of a movie being an action movie is \" + str(contingency_table1['action']['All']))"
   ]
  },
  {
   "cell_type": "markdown",
   "metadata": {},
   "source": [
    "### Question2. the marginal probability of a movie being a comedy (? / 2 points)"
   ]
  },
  {
   "cell_type": "code",
   "execution_count": 66,
   "metadata": {},
   "outputs": [
    {
     "name": "stdout",
     "output_type": "stream",
     "text": [
      "The marginal probability of a movie being an comedy movie is 0.192\n"
     ]
    }
   ],
   "source": [
    "print(\"The marginal probability of a movie being an comedy movie is \" + str(contingency_table1['comedy']['All']))"
   ]
  },
  {
   "cell_type": "markdown",
   "metadata": {},
   "source": [
    "### Question3. the marginal probability of the director being female (? / 2 points)"
   ]
  },
  {
   "cell_type": "code",
   "execution_count": 67,
   "metadata": {},
   "outputs": [
    {
     "name": "stdout",
     "output_type": "stream",
     "text": [
      "The marginal probability of the director being female is 0.148\n"
     ]
    }
   ],
   "source": [
    "print(\"The marginal probability of the director being female is \" + str(contingency_table2['female']['All']))"
   ]
  },
  {
   "cell_type": "markdown",
   "metadata": {},
   "source": [
    "### Question4. the conditional probability of the movie being an action movie given that the director’s gender is female (? / 2 points)"
   ]
  },
  {
   "cell_type": "code",
   "execution_count": 74,
   "metadata": {},
   "outputs": [
    {
     "name": "stdout",
     "output_type": "stream",
     "text": [
      "The conditional probability of a movie being an action movie given the director is female is 0.24324324324324326\n"
     ]
    }
   ],
   "source": [
    "print(\"The conditional probability of a movie being an action movie given the director is female is \" + str(contingency_table1['action']['female']))"
   ]
  },
  {
   "cell_type": "markdown",
   "metadata": {},
   "source": [
    "### Question5. the conditional probability of the movie being an action movie given that the director’s gender is male (? / 2 points)"
   ]
  },
  {
   "cell_type": "code",
   "execution_count": 71,
   "metadata": {},
   "outputs": [
    {
     "name": "stdout",
     "output_type": "stream",
     "text": [
      "The conditional probability of a movie being an action movie given the director is male is 0.22535211267605634\n"
     ]
    }
   ],
   "source": [
    "print(\"The conditional probability of a movie being an action movie given the director is male is \" + str(contingency_table1['action']['male']))"
   ]
  },
  {
   "cell_type": "markdown",
   "metadata": {},
   "source": [
    "### Question6. the conditional probability of the director’s gender being female given that the movie is an action movie (? / 2 points)"
   ]
  },
  {
   "cell_type": "code",
   "execution_count": 75,
   "metadata": {},
   "outputs": [
    {
     "name": "stdout",
     "output_type": "stream",
     "text": [
      "The conditional probability of the director being female given the movie is an action movie is 0.15789473684210525\n"
     ]
    }
   ],
   "source": [
    "print(\"The conditional probability of the director being female given the movie is an action movie is \" + str(contingency_table2['female']['action']))"
   ]
  },
  {
   "cell_type": "markdown",
   "metadata": {},
   "source": [
    "### Question7. the conditional probability of the director’s gender being male knowing that the movie is an action movie (? / 2 points)"
   ]
  },
  {
   "cell_type": "code",
   "execution_count": 76,
   "metadata": {},
   "outputs": [
    {
     "name": "stdout",
     "output_type": "stream",
     "text": [
      "The conditional probability of the director being male given the movie is an action movie is 0.8421052631578947\n"
     ]
    }
   ],
   "source": [
    "print(\"The conditional probability of the director being male given the movie is an action movie is \" + str(contingency_table2['male']['action']))"
   ]
  },
  {
   "cell_type": "markdown",
   "metadata": {},
   "source": [
    "### Question8. How does the probability of the director being female change from when you don’t know what the movie is to when you know that the movie is an action movie?  (? / 2 points)"
   ]
  },
  {
   "cell_type": "markdown",
   "metadata": {},
   "source": [
    "There is an increase in the probability from when you don't know the genre to knowing that it is an action movie as the conditional probability increases from 0.148000 to 0.157895."
   ]
  },
  {
   "cell_type": "markdown",
   "metadata": {},
   "source": [
    "### Question9. What is the joint probability of a movie being an action movie AND being directed by a woman? (? / 2 points)"
   ]
  },
  {
   "cell_type": "code",
   "execution_count": 77,
   "metadata": {},
   "outputs": [
    {
     "name": "stdout",
     "output_type": "stream",
     "text": [
      "The joint probability of a movie being an action movie and being directed by a woman is 0.036\n"
     ]
    }
   ],
   "source": [
    "print(\"The joint probability of a movie being an action movie and being directed by a woman is \" + str(contingency_table1['action']['female']* contingency_table2['female']['All']))"
   ]
  },
  {
   "cell_type": "markdown",
   "metadata": {},
   "source": [
    "### Question10. What is the expected probability of a movie being an action movie AND being directed by a woman IF gender and genre were independent? (? / 2 points)"
   ]
  },
  {
   "cell_type": "code",
   "execution_count": 78,
   "metadata": {},
   "outputs": [
    {
     "name": "stdout",
     "output_type": "stream",
     "text": [
      "The expected probability of a movie being an action movie and being directed by a woman if both gender and genre were independent is 0.033743999999999996\n"
     ]
    }
   ],
   "source": [
    "print(\"The expected probability of a movie being an action movie and being directed by a woman if both gender and genre were independent is \" + str(contingency_table1['action']['All']* contingency_table2['female']['All']))"
   ]
  },
  {
   "cell_type": "markdown",
   "metadata": {},
   "source": [
    "## Task 4: Descriptive Statistics by Category (pg 24-30 and pg 250-256) (? / 20 points)"
   ]
  },
  {
   "cell_type": "markdown",
   "metadata": {},
   "source": [
    "### Question1. Using pandas statistics functions (pg. 137-141) and the groupby method determine the mean for production cost by gender. (? / 5 points)"
   ]
  },
  {
   "cell_type": "code",
   "execution_count": 81,
   "metadata": {},
   "outputs": [
    {
     "data": {
      "text/html": [
       "<div>\n",
       "<style scoped>\n",
       "    .dataframe tbody tr th:only-of-type {\n",
       "        vertical-align: middle;\n",
       "    }\n",
       "\n",
       "    .dataframe tbody tr th {\n",
       "        vertical-align: top;\n",
       "    }\n",
       "\n",
       "    .dataframe thead th {\n",
       "        text-align: right;\n",
       "    }\n",
       "</style>\n",
       "<table border=\"1\" class=\"dataframe\">\n",
       "  <thead>\n",
       "    <tr style=\"text-align: right;\">\n",
       "      <th></th>\n",
       "      <th>prodcost</th>\n",
       "    </tr>\n",
       "    <tr>\n",
       "      <th>dirGender</th>\n",
       "      <th></th>\n",
       "    </tr>\n",
       "  </thead>\n",
       "  <tbody>\n",
       "    <tr>\n",
       "      <th>female</th>\n",
       "      <td>53.186599</td>\n",
       "    </tr>\n",
       "    <tr>\n",
       "      <th>male</th>\n",
       "      <td>64.998486</td>\n",
       "    </tr>\n",
       "  </tbody>\n",
       "</table>\n",
       "</div>"
      ],
      "text/plain": [
       "            prodcost\n",
       "dirGender           \n",
       "female     53.186599\n",
       "male       64.998486"
      ]
     },
     "execution_count": 81,
     "metadata": {},
     "output_type": "execute_result"
    }
   ],
   "source": [
    "df[['dirGender','prodcost']].groupby('dirGender').mean()"
   ]
  },
  {
   "cell_type": "markdown",
   "metadata": {},
   "source": [
    "Dataframe showing mean production cost of films by gender"
   ]
  },
  {
   "cell_type": "markdown",
   "metadata": {},
   "source": [
    "### Question2. Determine and print the mean for production cost by genre. For this question instead of writing four individual print statements use a for loop to iterate over the different genre’s that exist. This needs to be done in three steps (? / 15 points)"
   ]
  },
  {
   "cell_type": "markdown",
   "metadata": {},
   "source": [
    "#### a. Use the groupby function to calculate the mean by genre (? / 3 points)"
   ]
  },
  {
   "cell_type": "code",
   "execution_count": 91,
   "metadata": {},
   "outputs": [
    {
     "data": {
      "text/html": [
       "<div>\n",
       "<style scoped>\n",
       "    .dataframe tbody tr th:only-of-type {\n",
       "        vertical-align: middle;\n",
       "    }\n",
       "\n",
       "    .dataframe tbody tr th {\n",
       "        vertical-align: top;\n",
       "    }\n",
       "\n",
       "    .dataframe thead th {\n",
       "        text-align: right;\n",
       "    }\n",
       "</style>\n",
       "<table border=\"1\" class=\"dataframe\">\n",
       "  <thead>\n",
       "    <tr style=\"text-align: right;\">\n",
       "      <th></th>\n",
       "      <th>prodcost</th>\n",
       "    </tr>\n",
       "    <tr>\n",
       "      <th>genre</th>\n",
       "      <th></th>\n",
       "    </tr>\n",
       "  </thead>\n",
       "  <tbody>\n",
       "    <tr>\n",
       "      <th>action</th>\n",
       "      <td>94.585333</td>\n",
       "    </tr>\n",
       "    <tr>\n",
       "      <th>adventure</th>\n",
       "      <td>91.490184</td>\n",
       "    </tr>\n",
       "    <tr>\n",
       "      <th>comedy</th>\n",
       "      <td>35.530388</td>\n",
       "    </tr>\n",
       "    <tr>\n",
       "      <th>drama</th>\n",
       "      <td>42.728014</td>\n",
       "    </tr>\n",
       "    <tr>\n",
       "      <th>other</th>\n",
       "      <td>29.381752</td>\n",
       "    </tr>\n",
       "  </tbody>\n",
       "</table>\n",
       "</div>"
      ],
      "text/plain": [
       "            prodcost\n",
       "genre               \n",
       "action     94.585333\n",
       "adventure  91.490184\n",
       "comedy     35.530388\n",
       "drama      42.728014\n",
       "other      29.381752"
      ]
     },
     "execution_count": 91,
     "metadata": {},
     "output_type": "execute_result"
    }
   ],
   "source": [
    "pc_genre = df[['genre','prodcost']].groupby('genre').mean()\n",
    "pc_genre"
   ]
  },
  {
   "cell_type": "markdown",
   "metadata": {},
   "source": [
    "Dataframe showing mean production cost of films by genre"
   ]
  },
  {
   "cell_type": "markdown",
   "metadata": {},
   "source": [
    "#### b. Create a variable that stores the names of the genre categories  (? / 3 points)"
   ]
  },
  {
   "cell_type": "code",
   "execution_count": 96,
   "metadata": {},
   "outputs": [],
   "source": [
    "label = ['action', 'adventure', 'comedy', 'drama', 'other']"
   ]
  },
  {
   "cell_type": "markdown",
   "metadata": {},
   "source": [
    "#### c. Iterate over this variable using a for loop and print the means for each category using a full sentence of the form \"The mean production cost for an xxxx movie is yyyy. (? / 9 points)"
   ]
  },
  {
   "cell_type": "code",
   "execution_count": 102,
   "metadata": {},
   "outputs": [
    {
     "name": "stdout",
     "output_type": "stream",
     "text": [
      "The mean production cost for a action is 94.58533282673791\n",
      "The mean production cost for a adventure is 91.49018432495322\n",
      "The mean production cost for a comedy is 35.530387780043235\n",
      "The mean production cost for a drama is 42.72801437146048\n",
      "The mean production cost for a other is 29.381751894250385\n"
     ]
    }
   ],
   "source": [
    "for i in range(len(label)):\n",
    "    print(\"The mean production cost for a \" + label[i] + \" is \" + str(pc_genre['prodcost'][i]))"
   ]
  },
  {
   "cell_type": "markdown",
   "metadata": {},
   "source": [
    "## Task 5: Histogram visualization by group (? / 25 points)\n",
    "In this task you will learn how to use __seaborn__. Seaborn is a library built on top of matplotlib and it's closely integrated with pandas data structures.  "
   ]
  },
  {
   "cell_type": "markdown",
   "metadata": {},
   "source": [
    "### Question1.Using _groupby_ create two series, one that has the director’s income for those of the male gender, and one for females.  Use _groupby_ to first group the directorIncome values and then use _get_group(genderValue)_ to create a new series for the specified gender (? / 4 points)"
   ]
  },
  {
   "cell_type": "code",
   "execution_count": 138,
   "metadata": {},
   "outputs": [
    {
     "data": {
      "text/plain": [
       "(    dirGender  dirIncome\n",
       " 1      female   1.134711\n",
       " 4      female   0.963219\n",
       " 5      female   0.819046\n",
       " 10     female   0.769966\n",
       " 11     female   1.915803\n",
       " 15     female   0.445088\n",
       " 18     female   1.155552\n",
       " 25     female   1.785670\n",
       " 28     female   0.883437\n",
       " 39     female   1.152579\n",
       " 41     female   0.807445\n",
       " 44     female   0.835402\n",
       " 48     female   1.078038\n",
       " 63     female   1.873615\n",
       " 88     female   0.875669\n",
       " 90     female   2.182165\n",
       " 94     female   0.629296\n",
       " 124    female   0.357458\n",
       " 129    female   1.475299\n",
       " 130    female   0.893419\n",
       " 134    female   0.763677\n",
       " 135    female   0.675425\n",
       " 141    female   0.870046\n",
       " 143    female   0.689267\n",
       " 144    female   0.741388\n",
       " 156    female   0.941202\n",
       " 160    female   0.865600\n",
       " 161    female   2.285402\n",
       " 165    female   0.997538\n",
       " 170    female   1.327968\n",
       " 178    female   1.193707\n",
       " 182    female   0.567561\n",
       " 197    female   0.668517\n",
       " 232    female   1.757011\n",
       " 235    female   1.640637\n",
       " 241    female   1.431310\n",
       " 242    female   0.751320,\n",
       "     dirGender  dirIncome\n",
       " 0        male   3.393535\n",
       " 2        male   2.418883\n",
       " 3        male   2.034115\n",
       " 6        male   1.880167\n",
       " 7        male   0.440033\n",
       " ..        ...        ...\n",
       " 245      male   3.105438\n",
       " 246      male   1.917771\n",
       " 247      male   2.414571\n",
       " 248      male   2.176928\n",
       " 249      male   2.315791\n",
       " \n",
       " [213 rows x 2 columns])"
      ]
     },
     "execution_count": 138,
     "metadata": {},
     "output_type": "execute_result"
    }
   ],
   "source": [
    "female_income = df[['dirGender','dirIncome']].groupby('dirGender').get_group('female')\n",
    "male_income = df[['dirGender','dirIncome']].groupby('dirGender').get_group('male')\n",
    "female_income, male_income"
   ]
  },
  {
   "cell_type": "markdown",
   "metadata": {},
   "source": [
    "### Question2. Visualize on the same plot the distribution of incomes using the histogram – plot the two histograms on top of each other for direct comparison. (? /5 points)"
   ]
  },
  {
   "cell_type": "code",
   "execution_count": 122,
   "metadata": {},
   "outputs": [
    {
     "data": {
      "image/png": "[encoded data removed]",
      "text/plain": [
       "<Figure size 432x288 with 1 Axes>"
      ]
     },
     "metadata": {
      "needs_background": "light"
     },
     "output_type": "display_data"
    }
   ],
   "source": [
    "plt.hist(male_income['dirIncome'], alpha = 0.5, color = 'blue', label = 'Male')\n",
    "plt.hist(female_income['dirIncome'],alpha = 0.5, color = 'red', label = 'Female')\n",
    "plt.xlabel(\"Director Income\")\n",
    "plt.ylabel(\"Count\")\n",
    "plt.legend()\n",
    "plt.show()"
   ]
  },
  {
   "cell_type": "markdown",
   "metadata": {},
   "source": [
    "Histogram showing distribution in male director income (blue) and female director income (red)."
   ]
  },
  {
   "cell_type": "markdown",
   "metadata": {},
   "source": [
    "### Question3. Plot the same data, using a boxplot, splitting by directorGender (? / 4 points)"
   ]
  },
  {
   "cell_type": "code",
   "execution_count": 137,
   "metadata": {},
   "outputs": [
    {
     "data": {
      "text/plain": [
       "<AxesSubplot:xlabel='dirGender', ylabel='dirIncome'>"
      ]
     },
     "execution_count": 137,
     "metadata": {},
     "output_type": "execute_result"
    },
    {
     "data": {
      "image/png": "[encoded data removed]",
      "text/plain": [
       "<Figure size 432x288 with 1 Axes>"
      ]
     },
     "metadata": {
      "needs_background": "light"
     },
     "output_type": "display_data"
    }
   ],
   "source": [
    "combined = df[['dirGender','dirIncome']]\n",
    "sns.boxplot(x = combined['dirGender'], y = combined['dirIncome'])"
   ]
  },
  {
   "cell_type": "markdown",
   "metadata": {},
   "source": [
    "Boxplot showing distribution in male director income (blue) and female director income (red)."
   ]
  },
  {
   "cell_type": "markdown",
   "metadata": {},
   "source": [
    "### Question4. Plot the same data using a violin plot, splitting by director gender. (? / 4 points)"
   ]
  },
  {
   "cell_type": "code",
   "execution_count": 134,
   "metadata": {},
   "outputs": [
    {
     "data": {
      "text/plain": [
       "<AxesSubplot:xlabel='dirGender', ylabel='dirIncome'>"
      ]
     },
     "execution_count": 134,
     "metadata": {},
     "output_type": "execute_result"
    },
    {
     "data": {
      "image/png": "[encoded data removed]",
      "text/plain": [
       "<Figure size 432x288 with 1 Axes>"
      ]
     },
     "metadata": {
      "needs_background": "light"
     },
     "output_type": "display_data"
    }
   ],
   "source": [
    "sns.violinplot(x = combined['dirGender'], y = combined['dirIncome'])"
   ]
  },
  {
   "cell_type": "markdown",
   "metadata": {},
   "source": [
    "Violin plot showing distribution in male director income (blue) and female director income (red)."
   ]
  },
  {
   "cell_type": "markdown",
   "metadata": {},
   "source": [
    "### Question5. Make a boxplot of director income split by movie genre. (? /4 points)"
   ]
  },
  {
   "cell_type": "code",
   "execution_count": 136,
   "metadata": {},
   "outputs": [
    {
     "data": {
      "text/plain": [
       "<AxesSubplot:xlabel='genre', ylabel='dirIncome'>"
      ]
     },
     "execution_count": 136,
     "metadata": {},
     "output_type": "execute_result"
    },
    {
     "data": {
      "image/png": "[encoded data removed]",
      "text/plain": [
       "<Figure size 432x288 with 1 Axes>"
      ]
     },
     "metadata": {
      "needs_background": "light"
     },
     "output_type": "display_data"
    }
   ],
   "source": [
    "genres = df[['genre','dirIncome']]\n",
    "sns.boxplot(x = genres['genre'], y = genres['dirIncome'])"
   ]
  },
  {
   "cell_type": "markdown",
   "metadata": {},
   "source": [
    "Boxplot showing distribution in director income based on movie genre."
   ]
  },
  {
   "cell_type": "markdown",
   "metadata": {},
   "source": [
    "### Question6. Make a violinplotof director income split by movie genre (? / 4 points)"
   ]
  },
  {
   "cell_type": "code",
   "execution_count": 139,
   "metadata": {},
   "outputs": [
    {
     "data": {
      "text/plain": [
       "<AxesSubplot:xlabel='genre', ylabel='dirIncome'>"
      ]
     },
     "execution_count": 139,
     "metadata": {},
     "output_type": "execute_result"
    },
    {
     "data": {
      "image/png": "[encoded data removed]",
      "text/plain": [
       "<Figure size 432x288 with 1 Axes>"
      ]
     },
     "metadata": {
      "needs_background": "light"
     },
     "output_type": "display_data"
    }
   ],
   "source": [
    "sns.violinplot(x = genres['genre'], y = genres['dirIncome'])"
   ]
  },
  {
   "cell_type": "markdown",
   "metadata": {},
   "source": [
    "Violin plot showing distribution in director income based on movie genre."
   ]
  },
  {
   "cell_type": "code",
   "execution_count": null,
   "metadata": {},
   "outputs": [],
   "source": []
  }
 ],
 "metadata": {
  "kernelspec": {
   "display_name": "Python 3 (ipykernel)",
   "language": "python",
   "name": "python3"
  },
  "language_info": {
   "codemirror_mode": {
    "name": "ipython",
    "version": 3
   },
   "file_extension": ".py",
   "mimetype": "text/x-python",
   "name": "python",
   "nbconvert_exporter": "python",
   "pygments_lexer": "ipython3",
   "version": "3.9.7"
  }
 },
 "nbformat": 4,
 "nbformat_minor": 2
}
