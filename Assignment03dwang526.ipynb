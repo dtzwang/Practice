{
 "cells": [
  {
   "cell_type": "markdown",
   "metadata": {
    "collapsed": true
   },
   "source": [
    "# Assignment 3: Bootstrap, confidence intervals & standard errors\n",
    "\n",
    "## Learning Outcomes:\n",
    "In this homework we will look at Estimates, Bootstrap, Confidence intervals, and Standard error.\n",
    "## Dataset \n",
    "The data set run10sample.csv contains data from random sample of 25 runner of the 16923 competitor in the 2012 Cherry blossom run (cherryblossom.org). The variables in the file are: \n",
    "\n",
    "- Place:  Finishing position. Separate positions are provided for each gender.\n",
    "- time: The total run time (in min) \n",
    "- Pace: The listed pace (/mile) for each runner.\n",
    "- Age: Age.\n",
    "- Gender: Gender.\n",
    "- Location: Hometown city. \n",
    "- State: Hometown state \n",
    "- divPlace: Age Division place, also broken up by gender.\n",
    "- divTot: Total number of people in the division (again, also split by gender).\n",
    "\n",
    "The data set run10.csv contains the data from all 16923 competitors, so you can also analyze the whole population. \n",
    "\n",
    "## Preliminaries\n",
    "Set up the environment by importing pandas, numpy, scipy, and matplotlib. Because we are using plots make sure that you configure your notebook such that plots are shown inline (see Assignment 2). "
   ]
  },
  {
   "cell_type": "code",
   "execution_count": 2,
   "metadata": {},
   "outputs": [],
   "source": [
    "import pandas as pd\n",
    "import numpy as np\n",
    "import matplotlib\n",
    "matplotlib.use('TkAgg')\n",
    "import matplotlib.pyplot as plt\n",
    "%matplotlib inline \n",
    "import scipy"
   ]
  },
  {
   "cell_type": "markdown",
   "metadata": {},
   "source": [
    "## Task 1: Analyzing a sample from the  population (12pt)\n",
    "In this task you will use the sample of runners that you got. \n",
    "### Question 1 (4pt)\n",
    "What was the mean finishing time in the random sample?"
   ]
  },
  {
   "cell_type": "code",
   "execution_count": 3,
   "metadata": {},
   "outputs": [
    {
     "name": "stdout",
     "output_type": "stream",
     "text": [
      "The mean finishing time in the sample dataset was 98.1504 minutes\n"
     ]
    },
    {
     "data": {
      "text/html": [
       "<div>\n",
       "<style scoped>\n",
       "    .dataframe tbody tr th:only-of-type {\n",
       "        vertical-align: middle;\n",
       "    }\n",
       "\n",
       "    .dataframe tbody tr th {\n",
       "        vertical-align: top;\n",
       "    }\n",
       "\n",
       "    .dataframe thead th {\n",
       "        text-align: right;\n",
       "    }\n",
       "</style>\n",
       "<table border=\"1\" class=\"dataframe\">\n",
       "  <thead>\n",
       "    <tr style=\"text-align: right;\">\n",
       "      <th></th>\n",
       "      <th>Unnamed: 0</th>\n",
       "      <th>Unnamed: 0.1</th>\n",
       "      <th>place</th>\n",
       "      <th>time</th>\n",
       "      <th>pace</th>\n",
       "      <th>age</th>\n",
       "      <th>gender</th>\n",
       "      <th>location</th>\n",
       "      <th>state</th>\n",
       "      <th>divPlace</th>\n",
       "      <th>divTot</th>\n",
       "    </tr>\n",
       "  </thead>\n",
       "  <tbody>\n",
       "    <tr>\n",
       "      <th>0</th>\n",
       "      <td>0</td>\n",
       "      <td>0</td>\n",
       "      <td>4494</td>\n",
       "      <td>92.25</td>\n",
       "      <td>9.225</td>\n",
       "      <td>38.0</td>\n",
       "      <td>M</td>\n",
       "      <td>Chesapeake Beach MD</td>\n",
       "      <td>MD</td>\n",
       "      <td>690.0</td>\n",
       "      <td>1093.0</td>\n",
       "    </tr>\n",
       "    <tr>\n",
       "      <th>1</th>\n",
       "      <td>1</td>\n",
       "      <td>1</td>\n",
       "      <td>6298</td>\n",
       "      <td>106.35</td>\n",
       "      <td>10.635</td>\n",
       "      <td>33.0</td>\n",
       "      <td>M</td>\n",
       "      <td>Washington DC</td>\n",
       "      <td>DC</td>\n",
       "      <td>1322.0</td>\n",
       "      <td>1490.0</td>\n",
       "    </tr>\n",
       "    <tr>\n",
       "      <th>2</th>\n",
       "      <td>2</td>\n",
       "      <td>2</td>\n",
       "      <td>2502</td>\n",
       "      <td>89.33</td>\n",
       "      <td>8.933</td>\n",
       "      <td>55.0</td>\n",
       "      <td>F</td>\n",
       "      <td>McLean VA</td>\n",
       "      <td>VA</td>\n",
       "      <td>37.0</td>\n",
       "      <td>236.0</td>\n",
       "    </tr>\n",
       "    <tr>\n",
       "      <th>3</th>\n",
       "      <td>3</td>\n",
       "      <td>3</td>\n",
       "      <td>8176</td>\n",
       "      <td>113.50</td>\n",
       "      <td>11.350</td>\n",
       "      <td>24.0</td>\n",
       "      <td>F</td>\n",
       "      <td>Alexandria VA</td>\n",
       "      <td>VA</td>\n",
       "      <td>878.0</td>\n",
       "      <td>974.0</td>\n",
       "    </tr>\n",
       "    <tr>\n",
       "      <th>4</th>\n",
       "      <td>4</td>\n",
       "      <td>4</td>\n",
       "      <td>3413</td>\n",
       "      <td>86.52</td>\n",
       "      <td>8.652</td>\n",
       "      <td>54.0</td>\n",
       "      <td>M</td>\n",
       "      <td>San Francisco CA</td>\n",
       "      <td>CA</td>\n",
       "      <td>213.0</td>\n",
       "      <td>483.0</td>\n",
       "    </tr>\n",
       "    <tr>\n",
       "      <th>5</th>\n",
       "      <td>5</td>\n",
       "      <td>5</td>\n",
       "      <td>8008</td>\n",
       "      <td>112.30</td>\n",
       "      <td>11.230</td>\n",
       "      <td>42.0</td>\n",
       "      <td>F</td>\n",
       "      <td>Chevy Chase MD</td>\n",
       "      <td>MD</td>\n",
       "      <td>785.0</td>\n",
       "      <td>974.0</td>\n",
       "    </tr>\n",
       "    <tr>\n",
       "      <th>6</th>\n",
       "      <td>6</td>\n",
       "      <td>6</td>\n",
       "      <td>8791</td>\n",
       "      <td>118.45</td>\n",
       "      <td>11.845</td>\n",
       "      <td>36.0</td>\n",
       "      <td>F</td>\n",
       "      <td>Fairfax VA</td>\n",
       "      <td>VA</td>\n",
       "      <td>1215.0</td>\n",
       "      <td>1367.0</td>\n",
       "    </tr>\n",
       "    <tr>\n",
       "      <th>7</th>\n",
       "      <td>7</td>\n",
       "      <td>7</td>\n",
       "      <td>3987</td>\n",
       "      <td>95.17</td>\n",
       "      <td>9.517</td>\n",
       "      <td>25.0</td>\n",
       "      <td>F</td>\n",
       "      <td>Arlington VA</td>\n",
       "      <td>VA</td>\n",
       "      <td>1230.0</td>\n",
       "      <td>2782.0</td>\n",
       "    </tr>\n",
       "    <tr>\n",
       "      <th>8</th>\n",
       "      <td>8</td>\n",
       "      <td>8</td>\n",
       "      <td>3451</td>\n",
       "      <td>93.25</td>\n",
       "      <td>9.325</td>\n",
       "      <td>25.0</td>\n",
       "      <td>F</td>\n",
       "      <td>Philadelphia PA</td>\n",
       "      <td>PA</td>\n",
       "      <td>1074.0</td>\n",
       "      <td>2782.0</td>\n",
       "    </tr>\n",
       "    <tr>\n",
       "      <th>9</th>\n",
       "      <td>9</td>\n",
       "      <td>9</td>\n",
       "      <td>1046</td>\n",
       "      <td>72.37</td>\n",
       "      <td>7.237</td>\n",
       "      <td>43.0</td>\n",
       "      <td>M</td>\n",
       "      <td>Pasadena MD</td>\n",
       "      <td>MD</td>\n",
       "      <td>111.0</td>\n",
       "      <td>931.0</td>\n",
       "    </tr>\n",
       "    <tr>\n",
       "      <th>10</th>\n",
       "      <td>10</td>\n",
       "      <td>10</td>\n",
       "      <td>3484</td>\n",
       "      <td>86.90</td>\n",
       "      <td>8.690</td>\n",
       "      <td>55.0</td>\n",
       "      <td>M</td>\n",
       "      <td>Falls Church VA</td>\n",
       "      <td>VA</td>\n",
       "      <td>138.0</td>\n",
       "      <td>375.0</td>\n",
       "    </tr>\n",
       "    <tr>\n",
       "      <th>11</th>\n",
       "      <td>11</td>\n",
       "      <td>11</td>\n",
       "      <td>2987</td>\n",
       "      <td>84.47</td>\n",
       "      <td>8.447</td>\n",
       "      <td>30.0</td>\n",
       "      <td>M</td>\n",
       "      <td>Potomac MD</td>\n",
       "      <td>MD</td>\n",
       "      <td>659.0</td>\n",
       "      <td>1490.0</td>\n",
       "    </tr>\n",
       "    <tr>\n",
       "      <th>12</th>\n",
       "      <td>12</td>\n",
       "      <td>12</td>\n",
       "      <td>4427</td>\n",
       "      <td>96.65</td>\n",
       "      <td>9.665</td>\n",
       "      <td>39.0</td>\n",
       "      <td>F</td>\n",
       "      <td>Walnut CA</td>\n",
       "      <td>CA</td>\n",
       "      <td>587.0</td>\n",
       "      <td>1367.0</td>\n",
       "    </tr>\n",
       "    <tr>\n",
       "      <th>13</th>\n",
       "      <td>13</td>\n",
       "      <td>13</td>\n",
       "      <td>6496</td>\n",
       "      <td>108.93</td>\n",
       "      <td>10.893</td>\n",
       "      <td>40.0</td>\n",
       "      <td>M</td>\n",
       "      <td>Springfield VA</td>\n",
       "      <td>VA</td>\n",
       "      <td>846.0</td>\n",
       "      <td>931.0</td>\n",
       "    </tr>\n",
       "    <tr>\n",
       "      <th>14</th>\n",
       "      <td>14</td>\n",
       "      <td>14</td>\n",
       "      <td>5827</td>\n",
       "      <td>101.58</td>\n",
       "      <td>10.158</td>\n",
       "      <td>30.0</td>\n",
       "      <td>F</td>\n",
       "      <td>Washington DC</td>\n",
       "      <td>DC</td>\n",
       "      <td>1297.0</td>\n",
       "      <td>2228.0</td>\n",
       "    </tr>\n",
       "    <tr>\n",
       "      <th>15</th>\n",
       "      <td>15</td>\n",
       "      <td>15</td>\n",
       "      <td>1224</td>\n",
       "      <td>82.78</td>\n",
       "      <td>8.278</td>\n",
       "      <td>24.0</td>\n",
       "      <td>F</td>\n",
       "      <td>Arlington VA</td>\n",
       "      <td>VA</td>\n",
       "      <td>164.0</td>\n",
       "      <td>974.0</td>\n",
       "    </tr>\n",
       "    <tr>\n",
       "      <th>16</th>\n",
       "      <td>16</td>\n",
       "      <td>16</td>\n",
       "      <td>4942</td>\n",
       "      <td>98.32</td>\n",
       "      <td>9.832</td>\n",
       "      <td>45.0</td>\n",
       "      <td>F</td>\n",
       "      <td>Potomac MD</td>\n",
       "      <td>MD</td>\n",
       "      <td>255.0</td>\n",
       "      <td>554.0</td>\n",
       "    </tr>\n",
       "    <tr>\n",
       "      <th>17</th>\n",
       "      <td>17</td>\n",
       "      <td>17</td>\n",
       "      <td>9579</td>\n",
       "      <td>134.18</td>\n",
       "      <td>13.418</td>\n",
       "      <td>33.0</td>\n",
       "      <td>F</td>\n",
       "      <td>Sterling VA</td>\n",
       "      <td>VA</td>\n",
       "      <td>2189.0</td>\n",
       "      <td>2228.0</td>\n",
       "    </tr>\n",
       "    <tr>\n",
       "      <th>18</th>\n",
       "      <td>18</td>\n",
       "      <td>18</td>\n",
       "      <td>6425</td>\n",
       "      <td>107.98</td>\n",
       "      <td>10.798</td>\n",
       "      <td>41.0</td>\n",
       "      <td>M</td>\n",
       "      <td>Arlington VA</td>\n",
       "      <td>VA</td>\n",
       "      <td>831.0</td>\n",
       "      <td>931.0</td>\n",
       "    </tr>\n",
       "    <tr>\n",
       "      <th>19</th>\n",
       "      <td>19</td>\n",
       "      <td>19</td>\n",
       "      <td>5951</td>\n",
       "      <td>102.08</td>\n",
       "      <td>10.208</td>\n",
       "      <td>36.0</td>\n",
       "      <td>F</td>\n",
       "      <td>Alexandria VA</td>\n",
       "      <td>VA</td>\n",
       "      <td>809.0</td>\n",
       "      <td>1367.0</td>\n",
       "    </tr>\n",
       "    <tr>\n",
       "      <th>20</th>\n",
       "      <td>20</td>\n",
       "      <td>20</td>\n",
       "      <td>8609</td>\n",
       "      <td>116.78</td>\n",
       "      <td>11.678</td>\n",
       "      <td>38.0</td>\n",
       "      <td>F</td>\n",
       "      <td>Edison NJ</td>\n",
       "      <td>NJ</td>\n",
       "      <td>1189.0</td>\n",
       "      <td>1367.0</td>\n",
       "    </tr>\n",
       "    <tr>\n",
       "      <th>21</th>\n",
       "      <td>21</td>\n",
       "      <td>21</td>\n",
       "      <td>3586</td>\n",
       "      <td>87.42</td>\n",
       "      <td>8.742</td>\n",
       "      <td>45.0</td>\n",
       "      <td>M</td>\n",
       "      <td>Branchville NJ</td>\n",
       "      <td>NJ</td>\n",
       "      <td>314.0</td>\n",
       "      <td>648.0</td>\n",
       "    </tr>\n",
       "    <tr>\n",
       "      <th>22</th>\n",
       "      <td>22</td>\n",
       "      <td>22</td>\n",
       "      <td>3823</td>\n",
       "      <td>94.58</td>\n",
       "      <td>9.458</td>\n",
       "      <td>35.0</td>\n",
       "      <td>F</td>\n",
       "      <td>New Market MD</td>\n",
       "      <td>MD</td>\n",
       "      <td>517.0</td>\n",
       "      <td>1367.0</td>\n",
       "    </tr>\n",
       "    <tr>\n",
       "      <th>23</th>\n",
       "      <td>23</td>\n",
       "      <td>23</td>\n",
       "      <td>2123</td>\n",
       "      <td>79.25</td>\n",
       "      <td>7.925</td>\n",
       "      <td>37.0</td>\n",
       "      <td>M</td>\n",
       "      <td>McLean VA</td>\n",
       "      <td>VA</td>\n",
       "      <td>307.0</td>\n",
       "      <td>1093.0</td>\n",
       "    </tr>\n",
       "    <tr>\n",
       "      <th>24</th>\n",
       "      <td>24</td>\n",
       "      <td>24</td>\n",
       "      <td>4517</td>\n",
       "      <td>92.37</td>\n",
       "      <td>9.237</td>\n",
       "      <td>23.0</td>\n",
       "      <td>M</td>\n",
       "      <td>Washington DC</td>\n",
       "      <td>DC</td>\n",
       "      <td>229.0</td>\n",
       "      <td>347.0</td>\n",
       "    </tr>\n",
       "  </tbody>\n",
       "</table>\n",
       "</div>"
      ],
      "text/plain": [
       "    Unnamed: 0  Unnamed: 0.1  place    time    pace   age gender  \\\n",
       "0            0             0   4494   92.25   9.225  38.0      M   \n",
       "1            1             1   6298  106.35  10.635  33.0      M   \n",
       "2            2             2   2502   89.33   8.933  55.0      F   \n",
       "3            3             3   8176  113.50  11.350  24.0      F   \n",
       "4            4             4   3413   86.52   8.652  54.0      M   \n",
       "5            5             5   8008  112.30  11.230  42.0      F   \n",
       "6            6             6   8791  118.45  11.845  36.0      F   \n",
       "7            7             7   3987   95.17   9.517  25.0      F   \n",
       "8            8             8   3451   93.25   9.325  25.0      F   \n",
       "9            9             9   1046   72.37   7.237  43.0      M   \n",
       "10          10            10   3484   86.90   8.690  55.0      M   \n",
       "11          11            11   2987   84.47   8.447  30.0      M   \n",
       "12          12            12   4427   96.65   9.665  39.0      F   \n",
       "13          13            13   6496  108.93  10.893  40.0      M   \n",
       "14          14            14   5827  101.58  10.158  30.0      F   \n",
       "15          15            15   1224   82.78   8.278  24.0      F   \n",
       "16          16            16   4942   98.32   9.832  45.0      F   \n",
       "17          17            17   9579  134.18  13.418  33.0      F   \n",
       "18          18            18   6425  107.98  10.798  41.0      M   \n",
       "19          19            19   5951  102.08  10.208  36.0      F   \n",
       "20          20            20   8609  116.78  11.678  38.0      F   \n",
       "21          21            21   3586   87.42   8.742  45.0      M   \n",
       "22          22            22   3823   94.58   9.458  35.0      F   \n",
       "23          23            23   2123   79.25   7.925  37.0      M   \n",
       "24          24            24   4517   92.37   9.237  23.0      M   \n",
       "\n",
       "               location state  divPlace  divTot  \n",
       "0   Chesapeake Beach MD    MD     690.0  1093.0  \n",
       "1         Washington DC    DC    1322.0  1490.0  \n",
       "2             McLean VA    VA      37.0   236.0  \n",
       "3         Alexandria VA    VA     878.0   974.0  \n",
       "4      San Francisco CA    CA     213.0   483.0  \n",
       "5        Chevy Chase MD    MD     785.0   974.0  \n",
       "6            Fairfax VA    VA    1215.0  1367.0  \n",
       "7          Arlington VA    VA    1230.0  2782.0  \n",
       "8       Philadelphia PA    PA    1074.0  2782.0  \n",
       "9           Pasadena MD    MD     111.0   931.0  \n",
       "10      Falls Church VA    VA     138.0   375.0  \n",
       "11           Potomac MD    MD     659.0  1490.0  \n",
       "12            Walnut CA    CA     587.0  1367.0  \n",
       "13       Springfield VA    VA     846.0   931.0  \n",
       "14        Washington DC    DC    1297.0  2228.0  \n",
       "15         Arlington VA    VA     164.0   974.0  \n",
       "16           Potomac MD    MD     255.0   554.0  \n",
       "17          Sterling VA    VA    2189.0  2228.0  \n",
       "18         Arlington VA    VA     831.0   931.0  \n",
       "19        Alexandria VA    VA     809.0  1367.0  \n",
       "20            Edison NJ    NJ    1189.0  1367.0  \n",
       "21       Branchville NJ    NJ     314.0   648.0  \n",
       "22        New Market MD    MD     517.0  1367.0  \n",
       "23            McLean VA    VA     307.0  1093.0  \n",
       "24        Washington DC    DC     229.0   347.0  "
      ]
     },
     "execution_count": 3,
     "metadata": {},
     "output_type": "execute_result"
    }
   ],
   "source": [
    "df = pd.read_csv(\"run10sample.csv\")\n",
    "print(\"The mean finishing time in the sample dataset was \" + str(df['time'].mean()) + \" minutes\")\n",
    "df"
   ]
  },
  {
   "cell_type": "markdown",
   "metadata": {},
   "source": [
    "### Question 2 (4pt)\n",
    "What is the number of men and women in your sample (tip: use groupby and size or count)?"
   ]
  },
  {
   "cell_type": "code",
   "execution_count": 4,
   "metadata": {},
   "outputs": [
    {
     "data": {
      "text/plain": [
       "gender\n",
       "F    14\n",
       "M    11\n",
       "dtype: int64"
      ]
     },
     "execution_count": 4,
     "metadata": {},
     "output_type": "execute_result"
    }
   ],
   "source": [
    "df.groupby(['gender']).size()"
   ]
  },
  {
   "cell_type": "markdown",
   "metadata": {},
   "source": [
    "### Question 3 (4pt)\n",
    "What was the mean finishing time when you split the sample up by gender (see Homework 2, task 4)? "
   ]
  },
  {
   "cell_type": "code",
   "execution_count": 5,
   "metadata": {},
   "outputs": [
    {
     "data": {
      "text/html": [
       "<div>\n",
       "<style scoped>\n",
       "    .dataframe tbody tr th:only-of-type {\n",
       "        vertical-align: middle;\n",
       "    }\n",
       "\n",
       "    .dataframe tbody tr th {\n",
       "        vertical-align: top;\n",
       "    }\n",
       "\n",
       "    .dataframe thead th {\n",
       "        text-align: right;\n",
       "    }\n",
       "</style>\n",
       "<table border=\"1\" class=\"dataframe\">\n",
       "  <thead>\n",
       "    <tr style=\"text-align: right;\">\n",
       "      <th></th>\n",
       "      <th>time</th>\n",
       "    </tr>\n",
       "    <tr>\n",
       "      <th>gender</th>\n",
       "      <th></th>\n",
       "    </tr>\n",
       "  </thead>\n",
       "  <tbody>\n",
       "    <tr>\n",
       "      <th>F</th>\n",
       "      <td>103.496429</td>\n",
       "    </tr>\n",
       "    <tr>\n",
       "      <th>M</th>\n",
       "      <td>91.346364</td>\n",
       "    </tr>\n",
       "  </tbody>\n",
       "</table>\n",
       "</div>"
      ],
      "text/plain": [
       "              time\n",
       "gender            \n",
       "F       103.496429\n",
       "M        91.346364"
      ]
     },
     "execution_count": 5,
     "metadata": {},
     "output_type": "execute_result"
    }
   ],
   "source": [
    "df[['gender','time']].groupby('gender').mean()"
   ]
  },
  {
   "cell_type": "markdown",
   "metadata": {},
   "source": [
    "## Task 2: Resampling from the population (47 Points)\n",
    "In this task you will have access to the data from the whole population to determine how much confidence you should have in the numbers you obained in Task 1.The dataset run10.csv contain the total population of 16923 competitors in the 2012 Cherry blossom run (cherryblossom.org). Having the whole population gives us the opportunity to check how good our sample estimate is. \n",
    "\n",
    "### Question 1 (10pt)\n",
    "\n",
    "What is the mean finishing time in the whole population of runners? Written answer: How much does it differ from the mean finishing time of the sample analyzed in Task 1? Can this difference be explained by the fact that our sample differs from the population in terms of gender distribution? How about age? Knowing these differences, how could we have improved our estimate?"
   ]
  },
  {
   "cell_type": "code",
   "execution_count": 89,
   "metadata": {},
   "outputs": [
    {
     "name": "stdout",
     "output_type": "stream",
     "text": [
      "The mean finishing time in the total dataset was 94.51597470897607 minutes, compared to the mean finishing time in the sample dataset, 98.1504 minutes\n",
      "This is a difference of -3.6344252910239305 minutes.\n",
      "The mean of the sample dataset is 3.84530266149683% greater than the mean of the whole.\n"
     ]
    }
   ],
   "source": [
    "dfwhole = pd.read_csv('run10.csv')\n",
    "proportion = df['time'].mean()/dfwhole['time'].mean()\n",
    "print(\"The mean finishing time in the total dataset was \" + str(dfwhole['time'].mean()) + \" minutes, compared to the mean finishing time in the sample dataset, \" + str(df['time'].mean()) + \" minutes\")\n",
    "print(\"This is a difference of \" + str(dfwhole['time'].mean() - df['time'].mean()) + \" minutes.\")\n",
    "print(\"The mean of the sample dataset is \" + str((proportion-1)*100) + \"% greater than the mean of the whole.\")"
   ]
  },
  {
   "cell_type": "code",
   "execution_count": 7,
   "metadata": {},
   "outputs": [
    {
     "data": {
      "text/plain": [
       "Text(0.5, 1.0, 'Total Gender Count')"
      ]
     },
     "execution_count": 7,
     "metadata": {},
     "output_type": "execute_result"
    },
    {
     "data": {
      "image/png": "[encoded data removed]",
      "text/plain": [
       "<Figure size 432x288 with 2 Axes>"
      ]
     },
     "metadata": {
      "needs_background": "light"
     },
     "output_type": "display_data"
    }
   ],
   "source": [
    "plt.subplot(1, 2, 1)\n",
    "plt.hist(df['gender'])\n",
    "plt.title(\"Sample Gender Count\")\n",
    "plt.subplot(1, 2, 2)\n",
    "plt.hist(dfwhole['gender'])\n",
    "plt.title(\"Total Gender Count\")"
   ]
  },
  {
   "cell_type": "markdown",
   "metadata": {},
   "source": [
    "Histograms of male and female runners in the sample and total runner datasets."
   ]
  },
  {
   "cell_type": "code",
   "execution_count": 8,
   "metadata": {},
   "outputs": [
    {
     "data": {
      "text/plain": [
       "(F    0.56\n",
       " M    0.44\n",
       " Name: gender, dtype: float64,\n",
       " F    0.575075\n",
       " M    0.424925\n",
       " Name: gender, dtype: float64)"
      ]
     },
     "execution_count": 8,
     "metadata": {},
     "output_type": "execute_result"
    }
   ],
   "source": [
    "samplegender = df['gender'].value_counts(normalize = True)\n",
    "totalgender = dfwhole['gender'].value_counts(normalize = True)\n",
    "samplegender, totalgender"
   ]
  },
  {
   "cell_type": "markdown",
   "metadata": {},
   "source": [
    "Normalized gender distribution between the sample and total datasets."
   ]
  },
  {
   "cell_type": "code",
   "execution_count": 9,
   "metadata": {},
   "outputs": [
    {
     "data": {
      "text/plain": [
       "(0.0, 80.0)"
      ]
     },
     "execution_count": 9,
     "metadata": {},
     "output_type": "execute_result"
    },
    {
     "data": {
      "image/png": "[encoded data removed]",
      "text/plain": [
       "<Figure size 432x288 with 2 Axes>"
      ]
     },
     "metadata": {
      "needs_background": "light"
     },
     "output_type": "display_data"
    }
   ],
   "source": [
    "plt.subplot(1, 2, 1)\n",
    "plt.hist(df['age'])\n",
    "plt.title(\"Sample Age Count\")\n",
    "plt.xlim(xmin = 0, xmax = 80)\n",
    "plt.subplot(1, 2, 2)\n",
    "plt.hist(dfwhole['age'])\n",
    "plt.title(\"Total Age Count\")\n",
    "plt.xlim(xmin = 0, xmax = 80)"
   ]
  },
  {
   "cell_type": "markdown",
   "metadata": {},
   "source": [
    "Histograms of runners ages and their count in the sample and total runner datasets."
   ]
  },
  {
   "cell_type": "markdown",
   "metadata": {},
   "source": []
  },
  {
   "cell_type": "markdown",
   "metadata": {},
   "source": [
    "The mean finishing time in the total dataset was 94.51597470897607 minutes, compared to the mean finishing time in the sample dataset, 98.1504 minutes. The sample mean is about 3.6 minutes slower than the total dataset. We now look at the gender and age distribution to find what may have caused this.\n",
    "\n",
    "We see that the gender distribution in the sample reflects the whole population well. The histograms look similar, and analyzing normalized values show us that the gender distribution is within 2% of the population. This is unlikely to have been what caused the difference.\n",
    "\n",
    "Looking at the age distribution, we see that there are several outliers that contribute to modes not present in the greater population sample. There are a high proportion of older runners from the late 30s to 50s that are not proportionate to the whole population. Additionally there is a gap of runners in their late 20s to 30s that are not there in the sample population. This is likely what caused the discrepancy between the two average run times.\n",
    "\n",
    "We could've improved our sample estimate by selecting a sample population that better reflects the ages of the greater population. Calculating the median age and selecting a normal distribution from there would give us a better distribution."
   ]
  },
  {
   "cell_type": "markdown",
   "metadata": {},
   "source": [
    "### Question 2 (10pt)\n",
    "Write a function **bootstrap**, which takes a data series (data) as an input and then performs a bootstrap. The function should take numIter samples from the data (with replacement) of size N. It should then calculate the statistics defined in fcn for each iteration and record it in a numpy-array, which it should then return.\n",
    "\n",
    "Input arguments \n",
    "- data: data series to resample\n",
    "- N: Sample size for each iteration \n",
    "- fcn: function to apply to the sample to get the statistics\n",
    "- numIter: Number of resamples (should default to 1000) \n",
    "\n",
    "Output argument: \n",
    "- Numpy array of size numIter that contains the estimates of the statistics\n"
   ]
  },
  {
   "cell_type": "code",
   "execution_count": 10,
   "metadata": {},
   "outputs": [],
   "source": [
    "def bootstrap(data, N, fcn = np.mean, numIter = 1000):\n",
    "    array = np.zeros((1, numIter))\n",
    "    \"\"\"\n",
    "    Args:\n",
    "    data (np.ndarray) - input data\n",
    "    N (int) - sample size for 1 iteration\n",
    "    fcn (function object) - function to be applied\n",
    "    numIter (int) - number of resamples/iterations\n",
    "    \n",
    "    Output:\n",
    "    array (np.ndarray) - containing the \n",
    "    \"\"\"\n",
    "    \n",
    "    for i in range(numIter):\n",
    "        #One iteration of N sample size from data\n",
    "        samples = np.random.choice(data, size = N, replace = True)\n",
    "        #Adding samples to output array\n",
    "        array[:, i] = fcn(samples)\n",
    "    \n",
    "    return array"
   ]
  },
  {
   "cell_type": "markdown",
   "metadata": {},
   "source": [
    "### Question 3 (8pt)\n",
    "Call the resample (bootstrap) function from Question 2 with time from the whole population as the data series, mean as the statistic, and a sample size of 25. Plot a histogram of the samples – make sure your x-axis and y-axis are labeled. Report the mean and the standard deviation of the resampled estimates. "
   ]
  },
  {
   "cell_type": "code",
   "execution_count": 33,
   "metadata": {},
   "outputs": [
    {
     "name": "stdout",
     "output_type": "stream",
     "text": [
      "[[ 89.3632  94.7124 100.0632  89.8396  88.5372  93.302   93.7956  97.5092\n",
      "   97.6228  90.14    89.3344  92.8656  91.606   93.1976  94.6264  93.696\n",
      "   94.6832  97.7556  95.0488  94.046   89.5244  98.3608  93.7168  96.564\n",
      "   96.3864  95.0452  88.2876  92.0828  99.2476  90.8664  90.7704  95.8148\n",
      "   96.9904 101.208  101.7924  88.97    94.104   89.6576  90.6612  94.7412\n",
      "   90.2596  95.234   93.3728  93.7948  89.2412  97.3924  97.5396  99.4148\n",
      "   98.3604  93.9232  95.2112  97.59    96.3532  96.5644  94.4656  95.2252\n",
      "   94.2492  94.3324  93.4872  93.86    97.66    95.7748  91.932   96.4068\n",
      "   92.7736  94.07    85.8752  94.82    89.462   98.2908  92.5728  96.4956\n",
      "  102.728   90.8152  90.8248  94.9796  94.4952 100.0784  88.836   95.15\n",
      "   93.0476  96.6128  98.6624  92.2512  97.5328  96.6948  95.222   91.6008\n",
      "   90.4364  93.3636  97.4844  91.2272  88.1592  98.2704  92.3688  96.5848\n",
      "   97.2056  98.92    88.5016  96.2776  93.488   92.818   97.758   98.0724\n",
      "   93.858   91.9748  94.872   95.2212  91.89    92.6024  91.1812  97.5868\n",
      "   89.602   96.1096  95.6924  93.4108  89.2264  94.9772  93.8888 100.2652\n",
      "   93.9424  89.9528  92.8436  94.2828  91.9936  99.082   94.3352  94.012\n",
      "   95.6788  95.6616  96.1656  91.4776  95.1256  91.3452  94.538   96.0612\n",
      "   91.07    93.3932  94.7804  94.2644  95.4372  94.1916  94.0664  95.44\n",
      "   92.922   95.1892  89.4904  96.2188  97.4664  95.8144  92.94    87.6408\n",
      "   95.5496  94.5412  97.      94.7316  91.0828  93.404   96.1384  92.9836\n",
      "   98.7036  92.4052  91.7084  96.0296  98.336   92.6476  94.4828  97.7792\n",
      "   97.122   96.5876  94.316   94.6128  91.0304  95.7728  91.5464  96.1336\n",
      "   95.2484  96.7708  93.38    91.888   89.6388  98.3724  93.4708  98.1576\n",
      "   93.5644  91.218   94.1436  93.0464  89.674   94.5644  98.1516  98.796\n",
      "   90.3128  95.824   94.8452  87.7648  98.7128  93.432   92.044   88.3664\n",
      "   96.4356  95.366   93.1272  93.6764  96.2956  93.9848  92.4492  88.6144\n",
      "   95.2968  90.1704  98.0968 101.1828  95.616   95.0408  95.3964  95.4576\n",
      "   92.9604  92.612   90.6796  91.2188  93.538   93.9952  97.538   92.9188\n",
      "   94.6556  95.4592  91.7076  90.1076  90.1656  89.8528  93.5916  94.5232\n",
      "   96.674  102.33    93.9744  94.0592  94.0976  95.3368  93.6104  97.6656\n",
      "   94.4076  94.5232  94.502   92.6692  94.8724  95.7496  94.074   90.796\n",
      "   96.766   95.5832  92.972   91.4896  92.616   96.0888  97.6208  88.1852\n",
      "   86.8708  97.7044  95.1684  91.0216  94.0996  96.3264  92.4144  94.2768\n",
      "   96.8896  94.9424  99.914   87.0512  99.514   91.6056  92.1916  92.744\n",
      "   96.964   94.8868  93.1104  94.7908  95.4604 101.1348  94.3456  95.522\n",
      "   98.0452  92.9364  94.8196  95.1764  91.8824  90.868   91.5556  91.9124\n",
      "   98.7736  93.9312  94.4772  89.6076  93.5976  88.2184  95.3936  94.836\n",
      "   97.23    93.6888  90.7124  93.9644  92.2272  96.9568  94.1848  96.4036\n",
      "   93.3312  95.1676  96.8896 100.1656  97.216   95.4224  93.5     89.8688\n",
      "   90.8656  92.17   100.6088  89.97    95.5764  94.9184  97.5288  93.5228\n",
      "   97.9248  99.3508  91.094   91.7872  99.4924  98.112   92.1332  96.57\n",
      "   92.3396  93.0784  91.4576  98.8292  94.7652  93.24    93.4972  93.6856\n",
      "   94.7944 100.2676  93.2204  97.0176  98.3012  90.7008  94.4184  92.4424\n",
      "   86.9436  93.2472  95.5244  96.9824  90.9232  96.072   98.3352  93.1744\n",
      "   93.4648  98.2708  93.4824  97.5428  92.1916  97.5848  92.1456  91.1816\n",
      "   94.234   93.674   90.7752  96.7612  95.6872  97.01    94.18    99.794\n",
      "   95.3692  98.1188  92.946   94.7472  93.5048  97.0024  93.2772  95.1528\n",
      "   93.8644  98.378   94.698   95.5288  96.5436  98.7904  94.882   94.6168\n",
      "   94.5492  96.6968  91.5044  95.2936  92.0416  93.308   90.1224  90.2676\n",
      "   97.1756  95.8468  95.2064  88.5312 101.25    95.4948  95.0856  92.9952\n",
      "   90.2652  91.0892  94.5456  96.4884  95.996   98.8792  93.5192  88.5396\n",
      "   94.5284  94.8784  95.0812  88.2804  97.1704  96.3696  93.4776 100.8136\n",
      "   95.9732  92.9968  87.6728  91.5696  87.8668  90.9432  93.9708  94.582\n",
      "   99.7832  91.0772  95.6364  94.92    97.6564  97.922   92.7152  92.7116\n",
      "   95.1712  94.4096  87.8008  96.526   96.8572  94.4496  95.1032  92.218\n",
      "   95.6216 102.8064  92.348   91.0268 100.4132 100.3412  96.078   94.756\n",
      "   90.7028  92.036   94.48    95.994   97.2556  92.688   90.1132  94.8008\n",
      "   95.5968  97.878   96.8832  93.254   94.9456  91.5172  96.1144  95.0292\n",
      "   91.5624  95.2992  95.8912  93.6924  94.2712  93.196   85.9956  90.3168\n",
      "   94.3912  95.0216  94.6836  93.3244  91.346   97.8392  95.034   92.0468\n",
      "   96.1756  96.498   89.6588  95.058   99.0352  93.902   95.9476  94.9528\n",
      "   93.7252  95.0068  91.8628  94.718   95.8848  92.4424  93.558   93.6504\n",
      "   95.0864  93.4508  98.166   97.3944  93.8892  91.1364  92.6288  88.0752\n",
      "   95.9604  94.1392  95.9468  96.9056  91.8024  93.1192  95.72    88.5792\n",
      "   93.8204  90.4436  95.5768  94.9288  91.2468  93.4948  89.8864  94.1108\n",
      "   93.29    93.3196  93.0656 101.1768  97.1512 102.4476  90.594   92.2036\n",
      "   94.1632  96.706   96.7684  90.4092  98.3496  96.4552  89.0388  96.6264\n",
      "   90.7096  92.4372 102.4512  95.1076  91.344   87.69    99.942   90.6672\n",
      "   94.2008  95.4256  96.1244  94.7644 100.948   97.3492 100.7132  92.6404\n",
      "   88.9076  92.3432  97.6604  99.5856  93.1036  92.8596  88.482   92.1792\n",
      "   98.8664  99.23    88.1916  95.1884  90.7592  91.8756  92.7284  89.6488\n",
      "   93.5396  93.6712  89.0464  95.9548  92.4192  96.6796  96.7616  95.0416\n",
      "   91.3272  92.054   93.5532  92.7224  93.9824  97.4356  93.4076  95.244\n",
      "   88.0684  92.3252 101.2784  99.9128  99.1952  93.7     93.1572 100.148\n",
      "   91.338   98.574   90.656   95.7052  95.0676  89.2276  97.4604  94.8124\n",
      "   87.6592  96.952   99.3956  99.7952  95.6724  90.48    93.3208  91.6916\n",
      "   97.9632  98.2124  84.4716  91.5772  91.4228  96.2336  95.2408  98.2424\n",
      "   96.1692  94.0168  95.5012  97.4016  92.5116  93.6388  97.4948  91.8448\n",
      "   94.8972  94.4964  97.2956  97.4804  97.8528  97.2612  97.7428  96.944\n",
      "   99.7176  91.5428  88.2944  95.764   99.9684  95.7532  92.6056  94.9396\n",
      "   89.4036  92.7492  93.5892 101.2296  98.8552  93.5232  93.4828  92.2004\n",
      "   94.3336  94.4804  96.5116  93.8424 100.2308  96.7952  92.9792  98.8476\n",
      "   96.3404 101.6388  93.626   92.9076  90.68    95.292   97.2836  95.5704\n",
      "   92.4524  94.5164  99.714   93.8876  96.06    93.2056  89.0336  94.6016\n",
      "   89.7556  93.068   89.7888  94.25    96.7628  92.8008  95.4004  99.098\n",
      "   92.5432  89.532   99.8496  96.8408  90.2256  97.6032  94.0988  94.1052\n",
      "   95.912   93.7656  99.7268  92.8732  91.9272  96.7192  94.7984  91.5044\n",
      "   97.624   97.0684  99.2504  96.6864  93.9892  92.384   93.0488  97.704\n",
      "   91.2116  91.734   97.29   100.384   99.6416  95.8252  95.7824  95.968\n",
      "   94.9036  91.9368  92.9324  95.7908  93.1192  95.7744  89.0576  91.8112\n",
      "   94.748   92.0716  96.9708  91.6096  97.9828  92.8152  97.8216  96.3852\n",
      "   94.314   96.71    91.7676  93.7972  96.8836  94.2896  97.6192  91.4972\n",
      "   91.742   92.918   91.1484  90.9824  94.288  102.88    94.8432  94.8892\n",
      "   94.0548  97.694   91.3856 104.3004  89.6732  92.0596  93.1196  98.9748\n",
      "   93.908   99.2412  91.9304  96.9784  94.5244  92.046   87.8644  99.858\n",
      "   92.5972  94.2256  99.816   94.9076  97.9952  91.5936  97.9548  94.8876\n",
      "   96.1048  93.9512  88.7656  88.8412  94.9076  95.7228 100.0104  94.6856\n",
      "   91.744   96.3056  96.9608  93.0884  93.4868  95.382   89.772   96.1464\n",
      "  100.0332  98.11    95.7944  96.5732 102.6156  90.4352  95.87    92.4652\n",
      "  101.0936  92.562   94.9252  94.7572  93.9996  96.046   95.3992  93.726\n",
      "   93.5748  95.7256  93.0984  94.4816  92.6468  97.1548  97.5576  95.9852\n",
      "   96.8428  92.9296  91.3908  89.7784 102.2676  94.4872  91.7076  93.8648\n",
      "   93.0016  98.4868  99.6932  93.968   98.6836  97.7012  96.6152  93.126\n",
      "   98.7956  93.116   94.3996  92.446   94.304   89.6368  93.638   93.154\n",
      "   93.2972  96.55    89.7808  95.7136  91.4204  91.8972  93.2252  94.3556\n",
      "   98.624   96.7372  94.3976  88.9572  94.9536  91.3248 101.1876  91.1464\n",
      "   99.1224  96.6468  93.6368  88.1768 101.6472  92.8328  91.4668  99.3648\n",
      "   91.5284  95.4     96.1652  96.8532  95.2156  93.2444  94.4408  98.4568\n",
      "   92.992   95.9972  96.066   88.59    88.35    96.1448  92.9272  94.1756\n",
      "   96.8788  93.6     99.2532  92.3656  94.1004  93.5336  91.1016  95.526\n",
      "   97.8156  93.5188  91.5532  95.352   96.8144  96.5184  93.672   89.2116\n",
      "   94.12    96.082   92.5848 101.7516  96.8792  93.5304  93.2568  93.208\n",
      "   92.102   90.8904  93.1604  98.5404  96.5984  94.2872  95.6604  95.5384\n",
      "   87.5172  88.9284  93.6084  92.866   92.646   91.4452  98.372   94.9548\n",
      "   86.3644  98.5292  94.5956  94.0076  96.2196  96.9496 100.9464  97.0496\n",
      "   98.3348  93.088   91.9384  96.14    95.4912  98.1568  92.8664  89.2896\n",
      "   92.9036  94.6376  88.1488  97.902   98.3428  90.7104  92.8728  95.5268\n",
      "   94.6692  98.7256  97.6396  93.6972  97.6304  99.0752  95.7932  97.5512\n",
      "   94.5476  95.614   91.2332  96.6788 101.3688  95.6048  95.2008  93.508\n",
      "   91.5132  98.4548  99.4412  92.4388  93.644   94.816   92.2736  93.4536\n",
      "   95.8832  93.1084  93.9792  91.8924  98.8276  97.86    98.0964  95.4928\n",
      "   91.2108  95.0444  99.41    93.5628  89.478   89.6976  91.4404  93.7868\n",
      "   93.7216  96.1764  93.5812  98.6992  88.9044  90.4304  94.6784  96.2028\n",
      "   95.896   90.7204  95.2932  91.3884  94.2744  97.7912  88.3468  91.3728\n",
      "   90.1128  92.5288  92.0672  93.1884 100.4316  98.6484  92.4164  95.3172]]\n"
     ]
    }
   ],
   "source": [
    "dfwhole_means = bootstrap(dfwhole['time'], N = 25, fcn = np.mean, numIter =1000)\n",
    "print(dfwhole_means)"
   ]
  },
  {
   "cell_type": "code",
   "execution_count": 36,
   "metadata": {},
   "outputs": [
    {
     "data": {
      "text/plain": [
       "<function matplotlib.pyplot.show(close=None, block=None)>"
      ]
     },
     "execution_count": 36,
     "metadata": {},
     "output_type": "execute_result"
    },
    {
     "data": {
      "image/png": "[encoded data removed]",
      "text/plain": [
       "<Figure size 432x288 with 1 Axes>"
      ]
     },
     "metadata": {
      "needs_background": "light"
     },
     "output_type": "display_data"
    }
   ],
   "source": [
    "plt.hist(dfwhole_means[0,:])\n",
    "plt.xlabel(\"Resampled Means\")\n",
    "plt.ylabel(\"Count\")\n",
    "plt.title(\"Resampled Mean Times\")\n",
    "plt.show"
   ]
  },
  {
   "cell_type": "code",
   "execution_count": 25,
   "metadata": {},
   "outputs": [
    {
     "name": "stdout",
     "output_type": "stream",
     "text": [
      "The mean of the resampled estimates is 94.44445999999999 minutes and the standard deviation is 3.2405912117760245\n"
     ]
    }
   ],
   "source": [
    "mean_dfm = np.mean(dfwhole_means)\n",
    "std_dfm = np.std(dfwhole_means)\n",
    "print(\"The mean of the resampled estimates is \" + str(mean_dfm) + \" minutes and the standard deviation is \" + str(std_dfm))"
   ]
  },
  {
   "cell_type": "markdown",
   "metadata": {},
   "source": [
    "### Question 4 (8pt)\n",
    "Call your bootstrap function again as in question 3, this time increasing the sample size first to 50, and then to 100. Which of the values (mean, standard deviation) of the means distribution changes most and why? "
   ]
  },
  {
   "cell_type": "code",
   "execution_count": 29,
   "metadata": {},
   "outputs": [
    {
     "name": "stdout",
     "output_type": "stream",
     "text": [
      "Mean: 94.5151644, Standard Deviation: 2.266712025611688\n"
     ]
    }
   ],
   "source": [
    "#Sample size 50\n",
    "dfwhole_50 = bootstrap(dfwhole['time'], N = 50, fcn = np.mean, numIter =1000)\n",
    "mean_dfm50 = np.mean(dfwhole_50)\n",
    "std_dfm50 = np.std(dfwhole_50)\n",
    "print(\"Mean: \" + str(mean_dfm50) + \", Standard Deviation: \" + str(std_dfm50))"
   ]
  },
  {
   "cell_type": "code",
   "execution_count": 30,
   "metadata": {},
   "outputs": [
    {
     "name": "stdout",
     "output_type": "stream",
     "text": [
      "Mean: 94.41171970000002, Standard Deviation: 1.5580363361044918\n"
     ]
    }
   ],
   "source": [
    "#Sample size 100\n",
    "dfwhole_100 = bootstrap(dfwhole['time'], N = 100, fcn = np.mean, numIter =1000)\n",
    "mean_dfm100 = np.mean(dfwhole_100)\n",
    "std_dfm100 = np.std(dfwhole_100)\n",
    "print(\"Mean: \" + str(mean_dfm100) + \", Standard Deviation: \" + str(std_dfm100))"
   ]
  },
  {
   "cell_type": "markdown",
   "metadata": {},
   "source": [
    "The mean value does not change very much as the sample size increases. However, the standard deviation goes down noticeably. This is because the standard deviation represents the variance/ dispersion of the set of results. As the sample size increases, we have a greater number of datapoints that will fit the normal distribution and the effects of outliers in the variation will be decreased, leading to a lower standard deviation"
   ]
  },
  {
   "cell_type": "markdown",
   "metadata": {},
   "source": []
  },
  {
   "cell_type": "markdown",
   "metadata": {
    "collapsed": true
   },
   "source": [
    "### Question 5 (6pt)\n",
    "Calculate the predicted standard error of the mean from the population standard deviation and the same size for  N=25, N=50, and N=100. Write a line of code for each sample size that prints the answer in a full sentence. Written answer: Do these match up with the SEMs that you got from question 4? "
   ]
  },
  {
   "cell_type": "code",
   "execution_count": 31,
   "metadata": {},
   "outputs": [
    {
     "name": "stdout",
     "output_type": "stream",
     "text": [
      "The standard error for sample size 25 is 0.6481182423552049\n",
      "The standard error for sample size 50 is 0.32056148886142394\n",
      "The standard error for sample size 100 is 0.1558036336104492\n"
     ]
    }
   ],
   "source": [
    "#Sample size 25\n",
    "se25 = std_dfm / np.sqrt(25)\n",
    "print(\"The standard error for sample size 25 is \" + str(se25))\n",
    "#Sample size 50\n",
    "se50 = std_dfm50 / np.sqrt(50)\n",
    "print(\"The standard error for sample size 50 is \" + str(se50))\n",
    "#Sample size 25\n",
    "se100 = std_dfm100 / np.sqrt(100)\n",
    "print(\"The standard error for sample size 100 is \" + str(se100))"
   ]
  },
  {
   "cell_type": "markdown",
   "metadata": {},
   "source": [
    "We see the standard errors decreasing as the sample size increases. This matches with what we expected from the standard deviation values calculated in the last question"
   ]
  },
  {
   "cell_type": "markdown",
   "metadata": {},
   "source": []
  },
  {
   "cell_type": "markdown",
   "metadata": {},
   "source": [
    "## Task 3: Calculating confidence intervals (24pt) \n",
    "### Question 1 (8pt)\n",
    "Write a function (confidenceInt) that determines a confidence interval for a data series. \t\n",
    "\n",
    "Input arguments \n",
    "- data: Sample of estimates – usually this is output from “bootstrap” (resample function from task 3 Q2)\n",
    "- prec: What Confidence interval in percept? 95= 95% confidence interval <br/>\n",
    "Output argument: \n",
    "- A list with 2 values: the lower and upper bound of the interval. \n",
    "\n",
    "Tip: Use np.percentile to get a specific percentile of the data. The lower bound of a 95% confidence interval is the (100-95)/2=2.5 percentile. "
   ]
  },
  {
   "cell_type": "code",
   "execution_count": 53,
   "metadata": {},
   "outputs": [],
   "source": [
    "def confidenceInt(data, prec = 95):\n",
    "    '''\n",
    "    Args:\n",
    "    data (ndarray) - input data\n",
    "    prec (int) - confidence interval\n",
    "    Returns:\n",
    "    List\n",
    "    '''\n",
    "    bounds = []\n",
    "    mean = np.mean(data)\n",
    "    confIntLower = np.percentile(data, ((100-prec)/2))\n",
    "    confIntUpper = np.percentile(data, ((100+prec)/2))\n",
    "    bounds.append(confIntLower)\n",
    "    bounds.append(confIntUpper)\n",
    "    return bounds\n",
    "    "
   ]
  },
  {
   "cell_type": "markdown",
   "metadata": {},
   "source": [
    "### Question 2 (8pt)\n",
    "Determine the confidence 95% interval for the mean estimate of your sample of 25. Use your bootstrap function (resample from Task 3 Q2) above to generate 1000 artificial samples of 25. Then use your confidenceInt function to get the 95% confidence interval.  Report the interval. \n"
   ]
  },
  {
   "cell_type": "code",
   "execution_count": 79,
   "metadata": {},
   "outputs": [
    {
     "data": {
      "text/plain": [
       "[88.49568999999998, 100.45726000000002]"
      ]
     },
     "execution_count": 79,
     "metadata": {},
     "output_type": "execute_result"
    }
   ],
   "source": [
    "dfwhole25 = bootstrap(dfwhole['time'], N = 25, fcn = np.mean, numIter =1000)\n",
    "confInt25 = confidenceInt(dfwhole25)\n",
    "confInt25"
   ]
  },
  {
   "cell_type": "markdown",
   "metadata": {},
   "source": [
    "### Question 3  (8pt)\n",
    "Repeat the plotting of the histogram from task 2.3 – but this time plot the lower and upper bound of the confidence interval as a vertical line – see plt.axvline. Make sure that the graph has x- and y-labels and a caption."
   ]
  },
  {
   "cell_type": "code",
   "execution_count": 80,
   "metadata": {},
   "outputs": [
    {
     "data": {
      "text/plain": [
       "<function matplotlib.pyplot.show(close=None, block=None)>"
      ]
     },
     "execution_count": 80,
     "metadata": {},
     "output_type": "execute_result"
    },
    {
     "data": {
      "image/png": "[encoded data removed]",
      "text/plain": [
       "<Figure size 432x288 with 1 Axes>"
      ]
     },
     "metadata": {
      "needs_background": "light"
     },
     "output_type": "display_data"
    }
   ],
   "source": [
    "plt.hist(dfwhole25[0,:])\n",
    "plt.xlabel(\"Resampled Means\")\n",
    "plt.ylabel(\"Count\")\n",
    "plt.title(\"Resampled Mean Times\")\n",
    "plt.axvline(x = confInt25[0], color = 'r')\n",
    "plt.axvline(x = confInt25[1], color = 'r')\n",
    "plt.figtext(0,-0.1,\"Histogram of resampled mean running times. Lower and upper bounds of 95% confidence interval are shown in red.\")\n",
    "plt.show"
   ]
  },
  {
   "cell_type": "markdown",
   "metadata": {},
   "source": [
    "## Task 4: Bootstraping from the sample (22pt)\n",
    "Now let's forget that you ever had the data from the whole population. Say, you only have your initial sample of 25 participants. How would you get an estimate of the confidence interval of the mean of the sample? \n",
    "### Question 1 (8pt)\n",
    "Load the sample stored in run10sample.csv. Now call the resample function with that time data, in each loop resampling 25 data points from 25 data points (with replacement!). You have now taken 1000 bootstrap samples. Report the mean of the bootstrap samples, the standard deviation of the the samples, and the 95% confidence interval."
   ]
  },
  {
   "cell_type": "code",
   "execution_count": 81,
   "metadata": {},
   "outputs": [
    {
     "name": "stdout",
     "output_type": "stream",
     "text": [
      "Mean: 98.07098799999999, Standard Deviation: 2.859489105056356\n",
      "95% Confidence Interval Bounds: [92.74269999999999, 104.1657]\n"
     ]
    }
   ],
   "source": [
    "dfsample25 = bootstrap(df['time'], N = 25, fcn = np.mean, numIter =1000)\n",
    "mean_dfs25 = np.mean(dfsample25)\n",
    "std_dfs25 = np.std(dfsample25)\n",
    "confIntSample25 = confidenceInt(dfsample25)\n",
    "print(\"Mean: \" + str(mean_dfs25) + \", Standard Deviation: \" + str(std_dfs25))\n",
    "print(\"95% Confidence Interval Bounds: \" + str(confIntSample25))"
   ]
  },
  {
   "cell_type": "markdown",
   "metadata": {},
   "source": [
    "### Question 2 (8pt)\n",
    "Plot of the histogram of your bootstrap samples –plot the lower and upper bound of the confidence interval as a vertical line – see plt.axvline (see homework 3). Plot the true population mean (Task 2.1) as a red vertical line. Make sure that the graph has x- and y-labels. "
   ]
  },
  {
   "cell_type": "code",
   "execution_count": 86,
   "metadata": {},
   "outputs": [
    {
     "data": {
      "text/plain": [
       "<function matplotlib.pyplot.show(close=None, block=None)>"
      ]
     },
     "execution_count": 86,
     "metadata": {},
     "output_type": "execute_result"
    },
    {
     "data": {
      "image/png": "[encoded data removed]",
      "text/plain": [
       "<Figure size 432x288 with 1 Axes>"
      ]
     },
     "metadata": {
      "needs_background": "light"
     },
     "output_type": "display_data"
    }
   ],
   "source": [
    "plt.hist(dfsample25[0,:])\n",
    "plt.xlabel(\"Sample Resampled Means\")\n",
    "plt.ylabel(\"Count\")\n",
    "plt.title(\"Resampled Mean Times\")\n",
    "plt.axvline(x = confIntSample25[0], color = 'y')\n",
    "plt.axvline(x = confIntSample25[1], color = 'y')\n",
    "plt.axvline(x = np.mean(dfwhole['time']), color = 'r')\n",
    "plt.axvline(x = np.mean(df['time']), color = 'g')\n",
    "plt.axvline(x = 101, color = 'pink')\n",
    "plt.figtext(0,-0.1,\"Histogram of resampled mean running times from sampled data. Lower and upper bounds of 95% confidence interval are shown in yellow. True population mean shown in red\")\n",
    "plt.figtext(0,-0.2,\"Mean of 25-runner sample shown in green. 101min mean value from last year's cherry blossom run shown in pink.\")\n",
    "plt.show"
   ]
  },
  {
   "cell_type": "markdown",
   "metadata": {},
   "source": [
    "### Question 3: (6pt)\n",
    "Written answer: Does the 95% confidence interval include the true population mean? Does it include the mean value from last year’s cherry blossom run (101min)? Is there statistical evidence from your sample of N=25, that the race times have gotten faster from last year? "
   ]
  },
  {
   "cell_type": "markdown",
   "metadata": {},
   "source": [
    "The true population mean lies within the lower and upper bounds of the 95% confidence interval of the 25-person sample. \n",
    "\n",
    "92.74269999999999 < 94.51597470897607 < 104.1657\n",
    "\n",
    "It also includes the mean value (101m) from last year's run. \n",
    "\n",
    "92.74269999999999 < 101 < 104.1657\n",
    "\n",
    "When comparing the mean value times between this sample and last year's 101 minutes measure, it would appear that the mean race time has decreased.\n",
    "\n",
    "98.1504 < 101"
   ]
  },
  {
   "cell_type": "markdown",
   "metadata": {},
   "source": []
  }
 ],
 "metadata": {
  "kernelspec": {
   "display_name": "Python 3 (ipykernel)",
   "language": "python",
   "name": "python3"
  },
  "language_info": {
   "codemirror_mode": {
    "name": "ipython",
    "version": 3
   },
   "file_extension": ".py",
   "mimetype": "text/x-python",
   "name": "python",
   "nbconvert_exporter": "python",
   "pygments_lexer": "ipython3",
   "version": "3.9.7"
  }
 },
 "nbformat": 4,
 "nbformat_minor": 2
}
